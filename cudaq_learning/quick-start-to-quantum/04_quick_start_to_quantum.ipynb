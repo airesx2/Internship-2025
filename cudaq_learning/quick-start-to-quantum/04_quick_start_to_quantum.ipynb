{
  "cells": [
    {
      "cell_type": "markdown",
      "metadata": {
        "id": "view-in-github",
        "colab_type": "text"
      },
      "source": [
        "<a href=\"https://colab.research.google.com/github/airesx2/cudaq/blob/main/quick-start-to-quantum/04_quick_start_to_quantum.ipynb\" target=\"_parent\"><img src=\"https://colab.research.google.com/assets/colab-badge.svg\" alt=\"Open In Colab\"/></a>"
      ]
    },
    {
      "cell_type": "code",
      "execution_count": 1,
      "metadata": {
        "colab": {
          "base_uri": "https://localhost:8080/"
        },
        "id": "uwoaUnHfs2_2",
        "outputId": "aed6b6cd-4b9b-41cb-a563-eefe4605243f"
      },
      "outputs": [
        {
          "output_type": "stream",
          "name": "stdout",
          "text": [
            "Requirement already satisfied: cudaq in /usr/local/lib/python3.11/dist-packages (0.11.0)\n",
            "Requirement already satisfied: cuda-quantum-cu12==0.11.0 in /usr/local/lib/python3.11/dist-packages (from cudaq) (0.11.0)\n",
            "Requirement already satisfied: astpretty~=3.0 in /usr/local/lib/python3.11/dist-packages (from cuda-quantum-cu12==0.11.0->cudaq) (3.0.0)\n",
            "Requirement already satisfied: cuquantum-python-cu12>=25.03 in /usr/local/lib/python3.11/dist-packages (from cuda-quantum-cu12==0.11.0->cudaq) (25.3.0)\n",
            "Requirement already satisfied: numpy>=1.24 in /usr/local/lib/python3.11/dist-packages (from cuda-quantum-cu12==0.11.0->cudaq) (2.0.2)\n",
            "Requirement already satisfied: scipy>=1.10.1 in /usr/local/lib/python3.11/dist-packages (from cuda-quantum-cu12==0.11.0->cudaq) (1.15.3)\n",
            "Requirement already satisfied: requests>=2.31 in /usr/local/lib/python3.11/dist-packages (from cuda-quantum-cu12==0.11.0->cudaq) (2.32.3)\n",
            "Requirement already satisfied: nvidia-cublas-cu12~=12.0 in /usr/local/lib/python3.11/dist-packages (from cuda-quantum-cu12==0.11.0->cudaq) (12.5.3.2)\n",
            "Requirement already satisfied: nvidia-curand-cu12~=10.3 in /usr/local/lib/python3.11/dist-packages (from cuda-quantum-cu12==0.11.0->cudaq) (10.3.6.82)\n",
            "Requirement already satisfied: nvidia-cuda-runtime-cu12~=12.0 in /usr/local/lib/python3.11/dist-packages (from cuda-quantum-cu12==0.11.0->cudaq) (12.5.82)\n",
            "Requirement already satisfied: nvidia-cusolver-cu12~=11.4 in /usr/local/lib/python3.11/dist-packages (from cuda-quantum-cu12==0.11.0->cudaq) (11.6.3.83)\n",
            "Requirement already satisfied: nvidia-cuda-nvrtc-cu12~=12.0 in /usr/local/lib/python3.11/dist-packages (from cuda-quantum-cu12==0.11.0->cudaq) (12.5.82)\n",
            "Requirement already satisfied: custatevec-cu12~=1.8 in /usr/local/lib/python3.11/dist-packages (from cuquantum-python-cu12>=25.03->cuda-quantum-cu12==0.11.0->cudaq) (1.8.0)\n",
            "Requirement already satisfied: cutensornet-cu12~=2.7 in /usr/local/lib/python3.11/dist-packages (from cuquantum-python-cu12>=25.03->cuda-quantum-cu12==0.11.0->cudaq) (2.7.0)\n",
            "Requirement already satisfied: cudensitymat-cu12~=0.1 in /usr/local/lib/python3.11/dist-packages (from cuquantum-python-cu12>=25.03->cuda-quantum-cu12==0.11.0->cudaq) (0.1.0)\n",
            "Requirement already satisfied: cupy-cuda12x>=13.0 in /usr/local/lib/python3.11/dist-packages (from cuquantum-python-cu12>=25.03->cuda-quantum-cu12==0.11.0->cudaq) (13.3.0)\n",
            "Requirement already satisfied: nvidia-nvjitlink-cu12 in /usr/local/lib/python3.11/dist-packages (from nvidia-cusolver-cu12~=11.4->cuda-quantum-cu12==0.11.0->cudaq) (12.5.82)\n",
            "Requirement already satisfied: nvidia-cusparse-cu12 in /usr/local/lib/python3.11/dist-packages (from nvidia-cusolver-cu12~=11.4->cuda-quantum-cu12==0.11.0->cudaq) (12.5.1.3)\n",
            "Requirement already satisfied: charset-normalizer<4,>=2 in /usr/local/lib/python3.11/dist-packages (from requests>=2.31->cuda-quantum-cu12==0.11.0->cudaq) (3.4.2)\n",
            "Requirement already satisfied: idna<4,>=2.5 in /usr/local/lib/python3.11/dist-packages (from requests>=2.31->cuda-quantum-cu12==0.11.0->cudaq) (3.10)\n",
            "Requirement already satisfied: urllib3<3,>=1.21.1 in /usr/local/lib/python3.11/dist-packages (from requests>=2.31->cuda-quantum-cu12==0.11.0->cudaq) (2.4.0)\n",
            "Requirement already satisfied: certifi>=2017.4.17 in /usr/local/lib/python3.11/dist-packages (from requests>=2.31->cuda-quantum-cu12==0.11.0->cudaq) (2025.6.15)\n",
            "Requirement already satisfied: cutensor-cu12<3,>=2.2 in /usr/local/lib/python3.11/dist-packages (from cudensitymat-cu12~=0.1->cuquantum-python-cu12>=25.03->cuda-quantum-cu12==0.11.0->cudaq) (2.2.0)\n",
            "Requirement already satisfied: fastrlock>=0.5 in /usr/local/lib/python3.11/dist-packages (from cupy-cuda12x>=13.0->cuquantum-python-cu12>=25.03->cuda-quantum-cu12==0.11.0->cudaq) (0.8.3)\n"
          ]
        }
      ],
      "source": [
        "# SPDX-License-Identifier: Apache-2.0 AND CC-BY-NC-4.0\n",
        "#\n",
        "# Licensed under the Apache License, Version 2.0 (the \"License\");\n",
        "# you may not use this file except in compliance with the License.\n",
        "# You may obtain a copy of the License at\n",
        "#\n",
        "# http://www.apache.org/licenses/LICENSE-2.0\n",
        "#\n",
        "# Unless required by applicable law or agreed to in writing, software\n",
        "# distributed under the License is distributed on an \"AS IS\" BASIS,\n",
        "# WITHOUT WARRANTIES OR CONDITIONS OF ANY KIND, either express or implied.\n",
        "# See the License for the specific language governing permissions and\n",
        "# limitations under the License.\n",
        "!pip install cudaq"
      ]
    },
    {
      "cell_type": "markdown",
      "metadata": {
        "id": "KadZFrZbs2_4"
      },
      "source": [
        "# Quick start to Quantum Computing with CUDA-Q\n",
        "# Lab 4 - Converge on a Solution: Write your first hybrid variational program\n",
        "$\n",
        "\\renewcommand{\\ket}[1]{|{#1}\\rangle}\n",
        "\\renewcommand{\\bra}[1]{\\langle{#1}|}\n",
        "$"
      ]
    },
    {
      "cell_type": "markdown",
      "metadata": {
        "id": "VxHAV71js2_6"
      },
      "source": [
        "Labs 3 and 4 break the hybrid variational algorithm into four steps.  In the first notebook (lab 3), we cover sections 1 and 2.  The second notebook (lab 4) covers the remaining sections.\n",
        "* Section 1: Comparing Classical Random Walks and Discrete Time Quantum Walk (DTQW)\n",
        "* Section 2: Programming a variational DTQW with CUDA-Q\n",
        "* Section 3: Defining Hamiltonians and Computing Expectation Values  \n",
        "* Section 4: Identify Parameters to Generate a Targeted Mean Value\n",
        "\n",
        "In Lab 3, we coded the parameterized kernel for the discrete time quantum walk (DTQW) using `cudaq`.  In this notebook, we'll compute expectation values and use a classical optimizer to identify parameters to optimize a cost function, completing the coding of the diagram below:\n",
        "\n",
        "<img src=\"https://raw.githubusercontent.com/NVIDIA/cuda-q-academic/main/images/dtqw-diagram.png\" alt=\"image of a variational discrete time quantum walk\" width=\"700\"/>\n",
        "\n",
        "\n",
        "**What you'll do:**\n",
        "* Define and visualize Discrete Time Quantum Walks for generating probability distributions\n",
        "* Add variational gates for the coin operators to create your first variational program\n",
        "* Construct a Hamiltonian that can be used to compute the average of the probability distribution generated by a quantum walk\n",
        "* Use a classical optimizer to identify optimal parameters in the variational quantum walk that will generate a distribution with a targeted average value\n",
        "\n",
        "**Terminology you'll use:**\n",
        "\n",
        "* Computational basis states (basis states for short)\n",
        "* Probability amplitude\n",
        "* Statevector\n",
        "* Control and target for multi-qubit controlled-operations\n",
        "* Hamiltonian\n",
        "* Pauli-Z operator\n",
        "\n",
        "**CUDA-Q syntax you'll use:**\n",
        "* quantum kernel function decoration: `@cudaq.kernel`\n",
        "* qubit initialization: `cudaq.qvector` and `cudaq.qubit`\n",
        "* quantum gates: `x`, `h`, `t`, _`.ctrl`, `cudaq.register_operation`, `u3`\n",
        "* spin operators: `spin.z`, `spin.i`\n",
        "* extract information from a kernel: `sample`, `get_state`, _`.amplitude`, `observe`\n",
        "* optimize parameters in a variational quantum algorithm: `cudaq.optimizers`\n"
      ]
    },
    {
      "cell_type": "markdown",
      "metadata": {
        "id": "CLANFHm0s2_7"
      },
      "source": [
        "Let's begin by installing the necessary packages."
      ]
    },
    {
      "cell_type": "code",
      "execution_count": 1,
      "metadata": {
        "id": "GLm6zXmPs2_8"
      },
      "outputs": [],
      "source": [
        "import cudaq\n",
        "import numpy as np\n",
        "import matplotlib.pyplot as plt"
      ]
    },
    {
      "cell_type": "markdown",
      "metadata": {
        "id": "9v47btQZs2_8"
      },
      "source": [
        "We've copied over the functions from Lab 3.1 that we'll need here.  Make sure you execute this cell below before continuing."
      ]
    },
    {
      "cell_type": "code",
      "execution_count": 2,
      "metadata": {
        "id": "tJ335QU6s2_9"
      },
      "outputs": [],
      "source": [
        "# Define a kernel on 4 qubits for the INC operation that\n",
        "# maps |x> to |x+1> mod 16\n",
        "\n",
        "@cudaq.kernel\n",
        "def INC(qubits : cudaq.qview):\n",
        "    x.ctrl([qubits[3], qubits[2], qubits[1]], qubits[0])\n",
        "    x.ctrl([qubits[3], qubits[2]], qubits[1])\n",
        "    x.ctrl(qubits[3], qubits[2])\n",
        "    x(qubits[3])\n",
        "\n",
        "\n",
        "# Define a kernel on 4 qubits for the DEC operation that\n",
        "# maps |x> to |x-1> mod 16\n",
        "\n",
        "@cudaq.kernel\n",
        "def DEC(qubits : cudaq.qview):\n",
        "    x.ctrl(qubits[3], qubits[2])\n",
        "    x.ctrl([qubits[3], qubits[2]], qubits[1])\n",
        "    x.ctrl([qubits[3], qubits[2], qubits[1]], qubits[0])\n"
      ]
    },
    {
      "cell_type": "markdown",
      "metadata": {
        "id": "ssTLp1NQs2_-"
      },
      "source": [
        "---\n",
        "## **Section 3** Defining Hamiltonians and Computing Expectation Values\n",
        "\n",
        "(Sections 1 and 2 can be found in Lab 3)\n",
        "\n",
        "A significant challenge in quantum computing is the efficient encoding of classical data into quantum states that can be processed by quantum hardware or simulated on classical computers. This is particularly crucial for many financial applications, where the first step of a quantum algorithm often involves efficiently loading a probability distribution. For instance, to enable lenders to price loans more accurately based on each borrower's unique risk profile, it is essential to estimate individual loan risk distributions (such as default and prepayment) while accounting for uncertainties in modeling and macroeconomic factors. Efficiently implementing this process on a quantum computer requires the ability to load a log-normal or other complex distribution into a quantum state [(Breeden and Leonova)](https://www.tandfonline.com/doi/full/10.1080/01605682.2022.2115415).\n",
        "\n",
        "Financial markets exhibit complex probability distributions and multi-agent interactions that classical models struggle to capture efficiently. Quantum walks can be used to generate probability distributions of market data. The quantum walk approach offers:\n",
        "* Flexible modeling of price movements\n",
        "* Better representation of extreme events compared to classical methods\n",
        "* Ability to capture asymmetric return distributions [(Backer et al)](https://arxiv.org/pdf/2403.19502).\n",
        "\n",
        "### The Problem\n",
        "\n",
        "This tutorial explores how to load a probability distribution with a given property (in this case, a fixed mean) into a quantum state. By following this example, you will gain the essential knowledge needed to comprehend more sophisticated algorithms, such as the multi-split-step quantum walks (mSSQW) method, as described by  [Chang et al.](https://arxiv.org/pdf/2302.12500) The mSSQW technique can be employed to load a log-normal distribution, which is useful for modeling the spot price of a financial asset at maturity.\n",
        "\n",
        "**Pedagogical Remark:** The reason why we chose to examine the courser problem of generating a distribution with a targeted mean as opposed to generating a targeted distribution iteself (as in [Chang et al.](https://arxiv.org/pdf/2302.12500)) is that by considering the mean of the distribution we can introduce the concept of expectation value of a Hamiltonian which is central to many variational algorithm applications in chemistry, optimization, and machine learning.  \n",
        "\n",
        "Let's begin by examining the final step in the quantum program template, which involves taking measurements and interpreting the results:\n",
        "\n",
        "<img src=\"https://raw.githubusercontent.com/NVIDIA/cuda-q-academic/main/images/circuit.png\" alt=\"image of a quantum circuit with the three parts: encode information, manipulate quantum states, extract information\" width=\"200\"/>\n",
        "\n",
        "Up to this point, for this step of the quantum program, we utilized `cudaq.get_state` and `cudaq.sample` to read out a statevector from the quantum kernel. However, this approach is not always practical, especially considering that the dimension of the statevector scales exponentially with the number of qubits. For example, describing the statevector for $100$ qubits would require storing $2^{100}$ amplitudes, which is extremely memory-intensive. In many quantum algorithms, we do not need a complete description of the statevector; instead, partial information like an \"average\" value often suffices.  This is where the concept of expectation value comes in.\n",
        "\n",
        "\n",
        "\n",
        "### Illustrative Example of Expectation Value\n",
        "\n",
        "Before we delve into our DTQW example, let's make this idea of \"average\" value of a quantum state more explicit by considering a specific example.\n",
        "\n",
        "Take the quantum state $\\ket{\\psi} = \\sum_j\\alpha_j\\ket{j}$, where $\\alpha_j = \\frac{1}{4}$ for all $j\\in\\{0, \\cdots 15\\}$. The probability amplitudes for the computational basis states of this example are graphed below:  \n",
        "\n",
        "<img src=\"https://raw.githubusercontent.com/NVIDIA/cuda-q-academic/main/images/equal-superposition.png\" width=\"500\">\n",
        "\n"
      ]
    },
    {
      "cell_type": "markdown",
      "metadata": {
        "id": "FROzo0uss2__"
      },
      "source": [
        "#### Expectation Values\n",
        "\n"
      ]
    },
    {
      "cell_type": "markdown",
      "metadata": {
        "id": "L4ogK-Rqs3AA"
      },
      "source": [
        "We can think of this as a probability distribution of a random variable and compute the **expectation value** (i.e., average or mean).  Graphically, we can determine that the expectation value is the position halfway between $\\ket{7}$ and $\\ket{8}$ (i.e., between the states $\\ket{0111}$ and $\\ket{1000}$). Analytically, we'd find this by computing $\\sum^{15}_{j=0} p_j i$, where $p_j$ is the probability of measuring the state $\\ket{j}$.  In this example we'd get $\\sum^{15}_{j=0} p_j j = \\frac{1}{16}\\sum_{j=0}^{15}j = 7.5.$\n",
        "\n",
        "Let's look into how, in general, we can deduce the expectation value $\\sum^{15}_{j=0} p_j j$  from a state $\\ket{\\phi} = \\sum_j\\alpha_j\\ket{j}$. We know that $|\\alpha_j|^2 = p_j$, by definition of the probability amplitudes.  Therefore, to complete the computation, we need an operation to translate from $\\ket{j}$ to $j$.  \n",
        "\n",
        "This is where the Hamiltonian comes in.  We won't formally define a Hamiltonian in its full generality here (you can read more about Hamiltonians [in Scott Aaronson's lecture notes](https://www.scottaaronson.com/qclec/25.pdf)).  For this tutorial, we will consider a Hamiltonian to be a $16\\times 16$ matrix that operates on a $4$-qubit quantum state through matrix multiplication. This matrix has certain additional properties, which we will not focus on for now.  For the purposes of this tutorial, all you need to know is that $H$ has the properties:\n",
        "* $H(\\ket{j}) = j\\ket{j}$ for $j \\in \\{0,1,\\cdots, 15\\}$\n",
        "* $H$ is linear, that is $H(c\\ket{\\psi}+d\\ket{\\phi}) = cH(\\ket{\\psi})+dH(\\ket{\\phi})$ for $c,d\\in\\mathbb{C}$ and states $\\ket{\\psi}$ and $\\ket{\\phi}$.\n",
        "\n",
        "We've left the explicit formula for $H$ in the optional box below.  But assuming that we have such an operation, then we can define and denote the **expectation value** of this Hamiltonian with respect to a state $\\phi$ as\n",
        "$$ \\bra{\\phi}H\\ket{\\phi} \\equiv \\ket{\\phi}^\\dagger H(\\ket{\\phi}),$$\n",
        "where the notation $\\bra{\\phi}$ is read as \"bra phi\" and comes from the bra-ket notation. It represents the conjugate transpose of the ket, $\\ket{\\phi}$. In other words, bra-$\\phi$ ($\\bra{\\phi}$) is equal to $\\ket{\\phi}^\\dagger$. Placing $\\bra{\\phi}$ next to $H(\\ket{\\phi})$ in the equation above represents the action of taking the dot product of  $\\bra{\\phi}$ with $H(\\ket{\\phi})$.\n",
        "\n",
        "Let's compute $$ \\bra{\\psi}H\\ket{\\psi},$$ for the equal superposition state $\\ket{\\psi} = \\sum_j\\frac{1}{4}\\ket{j} = \\frac{1}{4}\\begin{pmatrix}1 \\\\ 1\\\\ \\vdots \\\\ 1 \\end{pmatrix},$ graphed above.  By our choice of $H$ and its linearity, we get that\n",
        "\n",
        "$$H\\ket{\\psi} = H(\\sum_{j=0}^{15}\\frac{1}{4}\\ket{j}) = \\frac{1}{4}\\sum_{j=0}^{15}H(\\ket{j}) = \\frac{1}{4}\\sum_{j=0}^{15}j(\\ket{j})= \\frac{1}{4}\\begin{pmatrix} 0 \\\\ 1 \\\\ 2 \\\\ \\vdots \\\\ 15 \\end{pmatrix}.$$\n",
        "\n",
        "Next combining this with $\\bra{\\psi}$ via a dot product, we get\n",
        "\n",
        "$$ \\bra{\\psi}H\\ket{\\psi} = \\frac{1}{4}\\begin{pmatrix}1 & 1& \\cdots & 1\\end{pmatrix} \\frac{1}{4}\\begin{pmatrix} 0 \\\\ 1 \\\\ 2 \\\\ \\vdots \\\\ 15 \\end{pmatrix} =   \\frac{1}{16}\\begin{pmatrix}1 & 1& \\cdots & 1\\end{pmatrix}\\begin{pmatrix} 0 \\\\ 1 \\\\ 2 \\\\ \\vdots \\\\ 15 \\end{pmatrix} = \\frac{1}{16}(0+1+2+\\cdots + 15) = \\frac{1}{16}\\sum_{j=0}^{15} j = 7.5, $$\n",
        "\n",
        "which is exactly the expectation value that we found analytically at the beginning of this section.\n",
        "\n",
        "> **Optional:**   The particular Hamiltonian that we need is the one that has the property $H\\ket{j} = j\\ket{j}$. In other words, the computational basis states are eigenvalues of the Hamiltonian and the eigenvalue of $\\ket{j}$ is $j$.  The Hamiltonian that has this property is\n",
        "> $$H = \\sum_{j=0}^{15}j\\ket{j}\\bra{j},$$\n",
        ">where $\\ket{j}\\bra{j}$ is the matrix product of $\\ket{j}$ with $\\bra{j}$.\n",
        "> A more useful formulation of $H$ is\n",
        "> $$ H =\\sum_{j=0}^{15}j\\ket{j}\\bra{j} = 4(I-Z_0) + 2(I-Z_1)  + (I-Z_2) + \\frac{1}{2}(I-Z_3) = 7.5I- (4Z_0 + 2 Z_1 + Z_2 +\\frac{1}{2}Z_3),$$\n",
        "> where $I$ is the identity matrix and $Z_j$ is the $16\\times16$-dimensional matrix which applies the $Z = \\begin{pmatrix} 1 & 0 \\\\ 0 & -1\\end{pmatrix}$ to the $j^{th}$ qubit and holds all other qubits constant.  For example applying $Z_2$ to the state $\\ket{1111}$ results in $-\\ket{1111}$ and $Z_2$ applied to $\\ket{1011}$ is $\\ket{1011}$.  With a some matrix alegbra, you can verify the following equality holds for $j\\in \\{0,1,\\cdots, 15\\}$:\n",
        "> $$ H\\ket{j} = 7.5I\\ket{j}- 4Z_0\\ket{j} - 2 Z_1\\ket{j} - Z_2\\ket{j} -\\frac{1}{2}Z_3\\ket{j} = j\\ket{j}.$$"
      ]
    },
    {
      "cell_type": "markdown",
      "metadata": {
        "id": "SsEtmk-us3AA"
      },
      "source": [
        "#### Computing Expecation Values with `observe`\n",
        "The `observe` function is used to compute expectation values of Hamiltonians.  Suppose that the state $\\ket{\\psi}$ is defined by a `cudaq.kernel` called `my_kernel`, and $H$ is a Hamiltonian stored as a `cudaq.operator`, named `my_hamiltonian`. We can compute the expectation value $\\bra{\\psi}H\\ket{\\psi}$ using `observe(my_kernel, my_hamiltonian).expectation()`.  For `observe` to work, the kernel shouldn't contain any measurments of the state of interest &mdash; otherwise, the state of the kernel would have collapsed to one of the basis states.  We can store $H$ as a `cudaq.operator` using `cudaq.spin.z` and `cudaq.spin.i` along with `+` and scalar multiplication `*`.  Let's walk through computing the expecation value for a probability distribution represented by a quantum state in the code block below."
      ]
    },
    {
      "cell_type": "code",
      "execution_count": 3,
      "metadata": {
        "colab": {
          "base_uri": "https://localhost:8080/"
        },
        "id": "DXbPS73os3AB",
        "outputId": "711e01c7-4cc2-43ab-cdf0-2e0852dc576b"
      },
      "outputs": [
        {
          "output_type": "stream",
          "name": "stdout",
          "text": [
            "7.5\n"
          ]
        }
      ],
      "source": [
        "# Computing expectation value of an equal superposition state\n",
        "\n",
        "# Set the number of qubits\n",
        "num_qubits = 4\n",
        "\n",
        "# Define a kernel for the state |psi> = 1/4(|0000> + |0001> + ...+ |1111>)\n",
        "@cudaq.kernel\n",
        "def equal_superposition(num_qubits : int):\n",
        "    \"\"\" Apply gates to the qubits to prepare the GHZ state\n",
        "    Parameters\n",
        "        num_qubits : int Number of qubits\n",
        "    \"\"\"\n",
        "    # Edit the code below this line\n",
        "    qubits = cudaq.qvector(num_qubits)\n",
        "    for i in range(len(qubits)):\n",
        "        h(qubits[i])\n",
        "\n",
        "# Define the Hamiltonian\n",
        "position_hamiltonian =  7.5*cudaq.spin.i(0) - 4*cudaq.spin.z(0)-2*cudaq.spin.z(1)-cudaq.spin.z(2)-0.5*cudaq.spin.z(3)\n",
        "\n",
        "# Compute the expectation value\n",
        "expectation_value = cudaq.observe(equal_superposition, position_hamiltonian, num_qubits).expectation()\n",
        "\n",
        "print(expectation_value)"
      ]
    },
    {
      "cell_type": "markdown",
      "metadata": {
        "id": "vDNnXQ_Hs3AB"
      },
      "source": [
        "As anticipated, the expectation value of the equal superposition state is computed to be 7.5.  In this section we introduced ideas that are essential for many other applications of variational quantum algorithms.  In particular, we introduced the Hamiltonian $H$ for computing the average value of a quantum state if we identify the computational basis states with integers.  We also demonstrated how to compute the expectation value of the Hamiltonian applied to a quantum state  $\\bra{\\psi}H\\ket{\\psi}$ using the `observe` command.  In the next section, we'll apply all of this to our DTQW problem.  "
      ]
    },
    {
      "cell_type": "markdown",
      "metadata": {
        "id": "_dw0PJ01s3AC"
      },
      "source": [
        "### Expectation value of a DTQW\n",
        "\n",
        "We are now prepared to apply what we've learned to the problem of finding a Discrete-Time Quantum Walk (DTQW) that yields a probability distribution with a specific mean. Let's aim to generate a distribution from a quantum walk with a mean of $3$. In the code block below, you'll find a parameterized kernel for the DTQW without any measurement based on the code that we developed in Lab 3.1.\n",
        "\n",
        "Do your best to adjust the parameter values to achieve a state with an average close to $3$. It's challenging, isn't it? There are just so many combinations of parameter values to experiment with!"
      ]
    },
    {
      "cell_type": "code",
      "execution_count": 4,
      "metadata": {
        "colab": {
          "base_uri": "https://localhost:8080/",
          "height": 561
        },
        "id": "tz20OyRFs3AC",
        "outputId": "bc02f2b6-5f30-45ce-c504-b56b3092cf51"
      },
      "outputs": [
        {
          "output_type": "stream",
          "name": "stdout",
          "text": [
            "sampling results with the coin qubit: { 00000:3716 00001:28 00010:110 00011:586 00100:777 00101:447 00110:105 00111:825 01000:26 01001:622 01011:1238 01101:587 01110:96 10010:140 10101:24 10110:115 11000:2 11001:23 11010:51 11011:21 11100:1 11101:39 11110:397 11111:24 }\n",
            "\n"
          ]
        },
        {
          "output_type": "display_data",
          "data": {
            "text/plain": [
              "<Figure size 640x480 with 1 Axes>"
            ],
            "image/png": "[encoded data removed]"
          },
          "metadata": {}
        },
        {
          "output_type": "stream",
          "name": "stdout",
          "text": [
            "The expectation value <ψ|H|ψ>  using parameters (0.822406, 0.805537, and 2.855993), is 3.00332605398224 \n"
          ]
        }
      ],
      "source": [
        "# Set a variable for the number of time steps\n",
        "num_time_steps = 6\n",
        "\n",
        "# Pick your favorite values\n",
        "# Proudly picked the perfect three numbers\n",
        "# All three params need to be in bounds [-pi, pi]\n",
        "theta = np.pi/3.82    #CHANGE ME\n",
        "phi = np.pi/3.9   #CHANGE ME\n",
        "lam = np.pi/1.1     #CHANGE ME\n",
        "\n",
        "# Set the number of position qubits\n",
        "num_qubits = 4\n",
        "\n",
        "@cudaq.kernel()\n",
        "def DTQW_for_expectation_value_computation(num_qubits: int, parameters : list[float], num_time_steps : int):\n",
        "    walker_qubits = cudaq.qvector(num_qubits)\n",
        "    coin_qubit = cudaq.qvector(1)\n",
        "\n",
        "    theta = parameters[0]\n",
        "    phi = parameters[1]\n",
        "    lam = parameters[2]\n",
        "\n",
        "    # Initial walker state |9> = |1001> for possibly faster convergence\n",
        "    #x(walker_qubits[3])\n",
        "    #x(walker_qubits[2])\n",
        "\n",
        "    # initial coin state\n",
        "    h(coin_qubit[0])\n",
        "\n",
        "    #for i in range(1, num_qubits):\n",
        "    #    x.ctrl(walker_qubits[0], walker_qubits[i])\n",
        "\n",
        "    # Flip the coin num_time_steps and shift the walker accordingly\n",
        "    for _ in range(num_time_steps):\n",
        "\n",
        "        # One quantum walk step\n",
        "        # Coin operation F=u3\n",
        "        u3(theta, phi, lam, coin_qubit)\n",
        "\n",
        "        # Walker's position change\n",
        "        # Shift right (S+) when the coin is |1>\n",
        "        cudaq.control(INC, coin_qubit[0], walker_qubits)\n",
        "\n",
        "        # Shift left (S-) when the coin is |0>\n",
        "\n",
        "        x(coin_qubit[0])\n",
        "        cudaq.control(DEC, coin_qubit[0], walker_qubits)\n",
        "        x(coin_qubit[0])\n",
        "\n",
        "# Sample the kernel for the quantum walk\n",
        "result_aiming_for_mean_of_3 = cudaq.sample(DTQW_for_expectation_value_computation, num_qubits, [theta, phi, lam], num_time_steps, shots_count=10000)\n",
        "print('sampling results with the coin qubit:', result_aiming_for_mean_of_3)\n",
        "\n",
        "\n",
        "# Define a function to draw the histogram of the results ignoring the coin qubit\n",
        "\n",
        "def plot_results_without_coin_qubit(result, num_qubits):\n",
        "    # Define a dictionary of results\n",
        "\n",
        "    # Function to convert binary string to integer\n",
        "    def binary_to_int(binary_string):\n",
        "        return int(binary_string, 2)\n",
        "    # Initialize the dictionary with all possible bit strings of length 4 for the x axis\n",
        "    result_dictionary = {}\n",
        "\n",
        "    # Generate all possible bit strings of length num_qubits\n",
        "    for i in range(2**num_qubits):\n",
        "        bitstr = bin(i)[2:].zfill(num_qubits)\n",
        "        result_dictionary[bitstr] = 0\n",
        "\n",
        "    # Update the results dictionary of results from the circuit sampling\n",
        "    for k,v in result.items():\n",
        "        k_without_coin = k[:-1]\n",
        "        result_dictionary[k_without_coin] = v\n",
        "\n",
        "    # Convert the dictionary to lists for x and y values\n",
        "    x = list(result_dictionary.keys())\n",
        "    y = list(result_dictionary.values())\n",
        "\n",
        "    # Create the histogram\n",
        "    plt.xlabel(\"Positions\")\n",
        "    plt.ylabel(\"Frequency\")\n",
        "\n",
        "    # Create the histogram\n",
        "    plt.bar(x, y, color='#76B900')\n",
        "\n",
        "    # Rotate x-axis labels for readability\n",
        "    plt.xticks(rotation=45)\n",
        "\n",
        "    # Show the plot\n",
        "    plt.tight_layout()\n",
        "    plt.show()\n",
        "\n",
        "\n",
        "# Draw the histogram of the results after one step\n",
        "plot_results_without_coin_qubit(result_aiming_for_mean_of_3, num_qubits)\n",
        "\n",
        "# Compute the expectation value\n",
        "exp_value = cudaq.observe(DTQW_for_expectation_value_computation, position_hamiltonian, num_qubits, [theta, phi, lam], num_time_steps).expectation()\n",
        "print('The expectation value <ψ|H|ψ>  using parameters ({:.6f}, {:.6f}, and {:.6f}), is {} '.format(theta, phi, lam, exp_value))"
      ]
    },
    {
      "cell_type": "markdown",
      "metadata": {
        "id": "dYE4pCvHs3AD"
      },
      "source": [
        "---\n",
        "## **Section 4** Identify Parameters to Generate a Targeted Mean Value\n",
        "\n",
        "  We have now arrived at the need for the variational quantum algorithm (see the diagram below). We can iniatilize the kernel with some parameter values, and then turn the problem over to a classical optimizer to search for new parameter values that minimize a cost function (sometimes referred to as an error function).  In our case we want to minimize the difference between $\\bra{\\psi_W} H\\ket{\\psi_W}$ and our targeted mean of $3$.  For the cost function, we'll use the mean square error (MSE) as our metric for closeness between the expecatation value and the targeted mean.\n",
        "  \n",
        "  <img src=\"https://raw.githubusercontent.com/NVIDIA/cuda-q-academic/main/images/dtqw-diagram.png\" alt=\"image of a quantum circuit with the three partsL encode information, manipulate quantum states, extract information\" width=\"700\"/>\n",
        "  \n",
        "  "
      ]
    },
    {
      "cell_type": "markdown",
      "metadata": {
        "id": "BLeTtk0ss3AD"
      },
      "source": [
        "The code block below defines the cost function and creates a list to record its values at each iteration of the loop."
      ]
    },
    {
      "cell_type": "code",
      "execution_count": 5,
      "metadata": {
        "id": "Fs76UGfKs3AE"
      },
      "outputs": [],
      "source": [
        "# Create a list to store the cost values from each iteration of the variational algorithm\n",
        "cost_values = []\n",
        "\n",
        "# Compute the cost for a given set of parameters\n",
        "def cost(parameters):\n",
        "    \"\"\"Returns the MSE between the targeted mean of 3 and the expectation value of the DTQW as our cost,\n",
        "    which we want to minimize. The cost for the given parameters is stored in the cost_values list.\n",
        "    Parameters\n",
        "        parameters : list[float] The parameters to be optimized\n",
        "    Returns\n",
        "        cost_val : float The cost value\n",
        "    \"\"\"\n",
        "    # Compute the expectation value\n",
        "    expectation_value = cudaq.observe(DTQW_for_expectation_value_computation, position_hamiltonian, num_qubits, parameters, num_time_steps, shots_count = 50000).expectation()\n",
        "    # Compute the cost value\n",
        "    cost_val = np.sqrt((expectation_value-3)**2)\n",
        "    cost_values.append(cost_val)\n",
        "    return cost_val"
      ]
    },
    {
      "cell_type": "markdown",
      "metadata": {
        "id": "UwkCeftys3AE"
      },
      "source": [
        "Below we use our built-in optimization suite (`cudaq.optimizers`) to minimize the cost function. Specifically, we will select the gradient-free Nelder Mead classical optimization alogrithm."
      ]
    },
    {
      "cell_type": "code",
      "execution_count": 6,
      "metadata": {
        "colab": {
          "base_uri": "https://localhost:8080/"
        },
        "id": "P2zw4kCBs3AE",
        "outputId": "b538bc6c-01a2-4773-c11e-9ec10456657d"
      },
      "outputs": [
        {
          "output_type": "stream",
          "name": "stdout",
          "text": [
            "The minimal cost found is  1.9999999999686935e-05\n",
            "The optimized parameters are  [0.822838602822322, 0.819324092059676, 2.861471870623789]\n"
          ]
        }
      ],
      "source": [
        "# Define a CUDA-Q optimizer\n",
        "optimizer = cudaq.optimizers.NelderMead()\n",
        "\n",
        "# Set initial parameter values\n",
        "optimizer.initial_parameters = [theta, phi, lam]\n",
        "\n",
        "# Optimize the cost function\n",
        "# The optimizer will try to minimize the cost function defined above\n",
        "result = optimizer.optimize(dimensions=3, function=cost) #dimensions is the number of parameter values\n",
        "\n",
        "print('The minimal cost found is ',result[0])\n",
        "print('The optimized parameters are ',result[1])"
      ]
    },
    {
      "cell_type": "markdown",
      "metadata": {
        "id": "xrifH6QTs3AE"
      },
      "source": [
        "Let's plot the cost values for each iteration of the variational algorithm to see the the convergence."
      ]
    },
    {
      "cell_type": "code",
      "execution_count": 7,
      "metadata": {
        "colab": {
          "base_uri": "https://localhost:8080/",
          "height": 490
        },
        "id": "Hxa6Oqxus3AF",
        "outputId": "a479f279-ad0b-4b0c-bc7f-dcd7515804c5"
      },
      "outputs": [
        {
          "output_type": "execute_result",
          "data": {
            "text/plain": [
              "Text(0, 0.5, 'Cost Value')"
            ]
          },
          "metadata": {},
          "execution_count": 7
        },
        {
          "output_type": "display_data",
          "data": {
            "text/plain": [
              "<Figure size 640x480 with 1 Axes>"
            ],
            "image/png": "[encoded data removed]"
          },
          "metadata": {}
        }
      ],
      "source": [
        "\n",
        "# Plotting how the value of the cost function decreases during the minimization procedure.\n",
        "plt.title(\"Convergence of the Variational Quantum Algorithm\")\n",
        "x_values = list(range(len(cost_values)))\n",
        "y_values = cost_values\n",
        "\n",
        "plt.plot(x_values, y_values)\n",
        "\n",
        "plt.xlabel(\"Iterations\")\n",
        "plt.ylabel(\"Cost Value\")"
      ]
    },
    {
      "cell_type": "markdown",
      "metadata": {
        "id": "mpiOPzmOs3AF"
      },
      "source": [
        "Finally, let's use the optimal parameters to carry out the DTQW to verify that we have generated a probability distribution with a mean close to 3."
      ]
    },
    {
      "cell_type": "code",
      "execution_count": 8,
      "metadata": {
        "colab": {
          "base_uri": "https://localhost:8080/",
          "height": 561
        },
        "id": "ZoqXdiYEs3AF",
        "outputId": "bbf0bbe4-3d2b-4218-feb1-22cc7b0667c4"
      },
      "outputs": [
        {
          "output_type": "stream",
          "name": "stdout",
          "text": [
            "sampling results with the coin qubit: { 00000:3617 00001:22 00010:116 00011:569 00100:784 00101:512 00110:117 00111:827 01000:21 01001:646 01011:1203 01101:630 01110:102 10010:148 10101:26 10110:106 11000:4 11001:21 11010:57 11011:23 11101:27 11110:392 11111:30 }\n",
            "\n"
          ]
        },
        {
          "output_type": "display_data",
          "data": {
            "text/plain": [
              "<Figure size 640x480 with 1 Axes>"
            ],
            "image/png": "[encoded data removed]"
          },
          "metadata": {}
        },
        {
          "output_type": "stream",
          "name": "stdout",
          "text": [
            "The expectation value  <ψ|H|ψ>  is  2.997393383718202\n"
          ]
        }
      ],
      "source": [
        "optimal_parameters = result[1]\n",
        "result_optimized = cudaq.sample(DTQW_for_expectation_value_computation, num_qubits, optimal_parameters, num_time_steps, shots_count=10000)\n",
        "print('sampling results with the coin qubit:', result_optimized)\n",
        "\n",
        "# Draw the histogram of the results after one step\n",
        "plot_results_without_coin_qubit(result_optimized, num_qubits)\n",
        "\n",
        "# Compute the expectation value\n",
        "exp_value = cudaq.observe(DTQW_for_expectation_value_computation, position_hamiltonian, num_qubits, optimal_parameters, num_time_steps).expectation()\n",
        "print('The expectation value  <ψ|H|ψ>  is ',exp_value)"
      ]
    },
    {
      "cell_type": "markdown",
      "metadata": {
        "id": "qTuBEjEBs3AF"
      },
      "source": [
        "---\n",
        "## Completion of the Quick Start to Quantum Computing Series\n",
        "\n",
        "Congratulations! You've successfully written your first variational quantum algorithm. You're now prepared to explore more advanced examples and applications.\n",
        "\n",
        "**Additional Challenges and Exercises**\n",
        "\n",
        "To further develop your skills, consider the following problems:\n",
        "\n",
        "1. **Parameterized DTQW**: Modify the existing DTQW code to incorporate different parameters in the coin flip operation `u3` at each step. In other words each step of the DTQW might have a different coin operator.  You can build upon the code developed in Lab 3 and 4.\n",
        "2. **Targeted Distribution Generation**: Adapt the variational algorithm to generate a targeted distribution. To do this, you will need to sample the distribution at each stage and use the mean square error between the sampled distribution and the targeted distribution as your cost function. Hint: For this problem, you will use the `sample` command instead of the `observe` command and you will not need to define a Hamiltonian.\n",
        "3. **Varying the quantum walk**: Consider variations to the DTQW by introducing an additional coin flip in between steps right and left (i.e., between the controlled-`INC` and controlled-`DEC` operations).  \n",
        "\n",
        "The animation below demonstrates what is possible by solving problems 1-3 above to model financial data:\n",
        "\n",
        "<img src=\"https://raw.githubusercontent.com/NVIDIA/cuda-q-academic/main/images/quantum_walk_target.gif\" alt=\"animation of a optimizing a quantum walk to target a log-normal  \" width=\"400\"/>\n",
        "\n",
        "\n",
        "**Future Directions and Resources**\n",
        "\n",
        "Now that you have a solid foundation in variational quantum algorithms, you can explore more advanced topics and applications, including:\n",
        "\n",
        "* **[Multi-split-step quantum walk for financial data](https://arxiv.org/pdf/2302.12500)**: Apply the variational quantum algorithm template to generate probability distributions for financial data.  You can learn more about this example in [notebooks 1](https://github.com/NVIDIA/cuda-q-academic/blob/main/quantum-applications-to-finance/01_quantum_walks.ipynb) and [2](https://github.com/NVIDIA/cuda-q-academic/blob/main/quantum-applications-to-finance/02_quantum_walks.ipynb) of the the CUDA-Q Academic [Quantum Applications to Finance series](https://github.com/NVIDIA/cuda-q-academic/blob/main/quantum-applications-to-finance/READ_ME.md).\n",
        "* **[Quantum Approximate Optimization Algorithm (QAOA)](https://github.com/NVIDIA/cuda-q-academic/tree/main/qaoa-for-max-cut)**: Learn about QAOA, circuit cutting, and GPU acceleration as applied to the max cut optimization problem.\n",
        "* **[Variational Quantum Eigensolver (VQE)](https://nvidia.github.io/cuda-quantum/latest/applications/python/vqe_advanced.html)**: Discover how VQE can be used to find the ground state of a quantum system.\n",
        "* **[Hybrid quantum neural networks](https://nvidia.github.io/cuda-quantum/latest/applications/python/hybrid_qnns.html)**: Explore the intersection of quantum computing and machine learning.\n",
        "\n",
        "To take your quantum computing skills to the next level, consider learning about accelerating quantum computing and expanding simulation capabilities. The [Accelerating Quantum Computing: A Step-by-Step Guide](https://github.com/NVIDIA/cuda-q-academic/blob/main/Guide-to-cuda-q-backends.ipynb) provides a comprehensive resource to help you achieve this goal.\n"
      ]
    },
    {
      "cell_type": "markdown",
      "metadata": {
        "id": "o-FFSah-s3AG"
      },
      "source": []
    }
  ],
  "metadata": {
    "kernelspec": {
      "display_name": "Python 3",
      "language": "python",
      "name": "python3"
    },
    "language_info": {
      "codemirror_mode": {
        "name": "ipython",
        "version": 3
      },
      "file_extension": ".py",
      "mimetype": "text/x-python",
      "name": "python",
      "nbconvert_exporter": "python",
      "pygments_lexer": "ipython3",
      "version": "3.10.12"
    },
    "colab": {
      "provenance": [],
      "include_colab_link": true
    }
  },
  "nbformat": 4,
  "nbformat_minor": 0
}
