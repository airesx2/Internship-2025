{
  "cells": [
    {
      "cell_type": "markdown",
      "metadata": {
        "id": "view-in-github",
        "colab_type": "text"
      },
      "source": [
        "<a href=\"https://colab.research.google.com/github/airesx2/cudaq/blob/main/quick-start-to-quantum/02_quick_start_to_quantum.ipynb\" target=\"_parent\"><img src=\"https://colab.research.google.com/assets/colab-badge.svg\" alt=\"Open In Colab\"/></a>"
      ]
    },
    {
      "cell_type": "code",
      "execution_count": null,
      "id": "eead95ce",
      "metadata": {
        "id": "eead95ce"
      },
      "outputs": [],
      "source": [
        "# SPDX-License-Identifier: Apache-2.0 AND CC-BY-NC-4.0\n",
        "#\n",
        "# Licensed under the Apache License, Version 2.0 (the \"License\");\n",
        "# you may not use this file except in compliance with the License.\n",
        "# You may obtain a copy of the License at\n",
        "#\n",
        "# http://www.apache.org/licenses/LICENSE-2.0\n",
        "#\n",
        "# Unless required by applicable law or agreed to in writing, software\n",
        "# distributed under the License is distributed on an \"AS IS\" BASIS,\n",
        "# WITHOUT WARRANTIES OR CONDITIONS OF ANY KIND, either express or implied.\n",
        "# See the License for the specific language governing permissions and\n",
        "# limitations under the License."
      ]
    },
    {
      "cell_type": "markdown",
      "id": "135f6e3e-e55f-4b5c-80cb-f8979bba94e0",
      "metadata": {
        "id": "135f6e3e-e55f-4b5c-80cb-f8979bba94e0"
      },
      "source": [
        "# Quick start to Quantum Computing with CUDA-Q\n",
        "\n",
        "# Lab 2 - Move onto Bigger and More Entangled Things: Programming with multiple qubits\n",
        "\n",
        "## Overview\n",
        "\n",
        "We'll continue to use the same template for creating a quantum program as in Lab 1:\n",
        "\n",
        "* Encode information into the quantum state by initializing qubit(s)\n",
        "* Manipulate the quantum state of the qubit(s) with quantum gate(s)\n",
        "* Extract information from the quantum state by measuring the state of the qubit(s)\n",
        "\n",
        "These three steps are outlined in the diagram below:\n",
        "\n",
        "<img src=\"https://raw.githubusercontent.com/NVIDIA/cuda-q-academic/main/images/circuit.png\" alt=\"image of a quantum circuit with the three partsL encode information, manipulate quantum states, extract information\" width=\"200\"/>\n",
        "\n",
        "However, in this lab, in addition to programming with more than one qubit, we'll use this opportunity to demonstrate a practical programming practice of creating \"subkernels\" (similar to subroutines in a classical program) that can be reused and combined.  \n",
        "\n",
        "\n",
        "**What you'll do:**\n",
        "\n",
        "Through the interactive code blocks and exercises in this lab, you will\n",
        "\n",
        "* Recognize allowable arguments accepted into a cudaq kernel function\n",
        "* Apply a variety of single and multi-qubit gates to qubits using CUDA-Q and reason about the outcome of these operations\n",
        "* Write quantum kernels that accept individual qubits or a register of qubits as arguments\n",
        "* Write and apply kernels as subkernels (i.e., subroutines)\n",
        "* Read and interpret quantum circuit diagrams\n",
        "* Encode classical information (in particular, integers) into qubits using binary notation and the `x` gate\n",
        "\n",
        "**Terminology you'll use:**\n",
        "\n",
        "* Computational basis states (basis states for short)\n",
        "* Probability amplitude\n",
        "* Statevector\n",
        "* (optional) Phase, relative phase, global phase\n",
        "* Entanglement\n",
        "* Interference\n",
        "* Control and target for multi-qubit controlled-operations\n",
        "\n",
        "**CUDA-Q syntax you'll use:**\n",
        "* defining a quantum kernel: `@cudaq.kernel`,\n",
        "* qubit initialization: `cudaq.qvector` and `cudaq.qubit`\n",
        "* quantum gates: `x`, `h`, `y`, `z`, `t`, `s`, `swap`, and the `ctrl` method\n",
        "* extracting information from a kernel: `get_state`, `get_state.amplitude()`, `sample`\n",
        "* visualization tools: `add_to_bloch_sphere`, `show`, `draw`\n",
        "\n"
      ]
    },
    {
      "cell_type": "markdown",
      "id": "b5046650",
      "metadata": {
        "id": "b5046650"
      },
      "source": [
        "Execute the cell below to load all the necessary packages for this lab."
      ]
    },
    {
      "cell_type": "code",
      "execution_count": 3,
      "id": "1Cgf3XIBzDv6",
      "metadata": {
        "colab": {
          "base_uri": "https://localhost:8080/"
        },
        "collapsed": true,
        "id": "1Cgf3XIBzDv6",
        "outputId": "75a61271-92b0-47cf-dd3e-00b4df185c94"
      },
      "outputs": [
        {
          "output_type": "stream",
          "name": "stdout",
          "text": [
            "Collecting cudaq\n",
            "  Downloading cudaq-0.11.0.tar.gz (9.1 kB)\n",
            "  Installing build dependencies ... \u001b[?25l\u001b[?25hdone\n",
            "  Getting requirements to build wheel ... \u001b[?25l\u001b[?25hdone\n",
            "  Preparing metadata (pyproject.toml) ... \u001b[?25l\u001b[?25hdone\n",
            "Collecting cuda-quantum-cu12==0.11.0 (from cudaq)\n",
            "  Downloading cuda_quantum_cu12-0.11.0-cp311-cp311-manylinux_2_28_x86_64.whl.metadata (8.5 kB)\n",
            "Collecting astpretty~=3.0 (from cuda-quantum-cu12==0.11.0->cudaq)\n",
            "  Downloading astpretty-3.0.0-py2.py3-none-any.whl.metadata (5.5 kB)\n",
            "Collecting cuquantum-python-cu12>=25.03 (from cuda-quantum-cu12==0.11.0->cudaq)\n",
            "  Downloading cuquantum_python_cu12-25.3.0-cp311-cp311-manylinux2014_x86_64.whl.metadata (7.8 kB)\n",
            "Requirement already satisfied: numpy>=1.24 in /usr/local/lib/python3.11/dist-packages (from cuda-quantum-cu12==0.11.0->cudaq) (2.0.2)\n",
            "Requirement already satisfied: scipy>=1.10.1 in /usr/local/lib/python3.11/dist-packages (from cuda-quantum-cu12==0.11.0->cudaq) (1.15.3)\n",
            "Requirement already satisfied: requests>=2.31 in /usr/local/lib/python3.11/dist-packages (from cuda-quantum-cu12==0.11.0->cudaq) (2.32.3)\n",
            "Requirement already satisfied: nvidia-cublas-cu12~=12.0 in /usr/local/lib/python3.11/dist-packages (from cuda-quantum-cu12==0.11.0->cudaq) (12.5.3.2)\n",
            "Requirement already satisfied: nvidia-curand-cu12~=10.3 in /usr/local/lib/python3.11/dist-packages (from cuda-quantum-cu12==0.11.0->cudaq) (10.3.6.82)\n",
            "Requirement already satisfied: nvidia-cuda-runtime-cu12~=12.0 in /usr/local/lib/python3.11/dist-packages (from cuda-quantum-cu12==0.11.0->cudaq) (12.5.82)\n",
            "Requirement already satisfied: nvidia-cusolver-cu12~=11.4 in /usr/local/lib/python3.11/dist-packages (from cuda-quantum-cu12==0.11.0->cudaq) (11.6.3.83)\n",
            "Requirement already satisfied: nvidia-cuda-nvrtc-cu12~=12.0 in /usr/local/lib/python3.11/dist-packages (from cuda-quantum-cu12==0.11.0->cudaq) (12.5.82)\n",
            "Collecting custatevec-cu12~=1.8 (from cuquantum-python-cu12>=25.03->cuda-quantum-cu12==0.11.0->cudaq)\n",
            "  Downloading custatevec_cu12-1.8.0-py3-none-manylinux2014_x86_64.whl.metadata (2.5 kB)\n",
            "Collecting cutensornet-cu12~=2.7 (from cuquantum-python-cu12>=25.03->cuda-quantum-cu12==0.11.0->cudaq)\n",
            "  Downloading cutensornet_cu12-2.7.0-py3-none-manylinux2014_x86_64.whl.metadata (2.5 kB)\n",
            "Collecting cudensitymat-cu12~=0.1 (from cuquantum-python-cu12>=25.03->cuda-quantum-cu12==0.11.0->cudaq)\n",
            "  Downloading cudensitymat_cu12-0.1.0-py3-none-manylinux2014_x86_64.whl.metadata (2.6 kB)\n",
            "Requirement already satisfied: cupy-cuda12x>=13.0 in /usr/local/lib/python3.11/dist-packages (from cuquantum-python-cu12>=25.03->cuda-quantum-cu12==0.11.0->cudaq) (13.3.0)\n",
            "Requirement already satisfied: nvidia-nvjitlink-cu12 in /usr/local/lib/python3.11/dist-packages (from nvidia-cusolver-cu12~=11.4->cuda-quantum-cu12==0.11.0->cudaq) (12.5.82)\n",
            "Requirement already satisfied: nvidia-cusparse-cu12 in /usr/local/lib/python3.11/dist-packages (from nvidia-cusolver-cu12~=11.4->cuda-quantum-cu12==0.11.0->cudaq) (12.5.1.3)\n",
            "Requirement already satisfied: charset-normalizer<4,>=2 in /usr/local/lib/python3.11/dist-packages (from requests>=2.31->cuda-quantum-cu12==0.11.0->cudaq) (3.4.2)\n",
            "Requirement already satisfied: idna<4,>=2.5 in /usr/local/lib/python3.11/dist-packages (from requests>=2.31->cuda-quantum-cu12==0.11.0->cudaq) (3.10)\n",
            "Requirement already satisfied: urllib3<3,>=1.21.1 in /usr/local/lib/python3.11/dist-packages (from requests>=2.31->cuda-quantum-cu12==0.11.0->cudaq) (2.4.0)\n",
            "Requirement already satisfied: certifi>=2017.4.17 in /usr/local/lib/python3.11/dist-packages (from requests>=2.31->cuda-quantum-cu12==0.11.0->cudaq) (2025.6.15)\n",
            "Collecting cutensor-cu12<3,>=2.2 (from cudensitymat-cu12~=0.1->cuquantum-python-cu12>=25.03->cuda-quantum-cu12==0.11.0->cudaq)\n",
            "  Downloading cutensor_cu12-2.2.0-py3-none-manylinux2014_x86_64.whl.metadata (2.2 kB)\n",
            "Requirement already satisfied: fastrlock>=0.5 in /usr/local/lib/python3.11/dist-packages (from cupy-cuda12x>=13.0->cuquantum-python-cu12>=25.03->cuda-quantum-cu12==0.11.0->cudaq) (0.8.3)\n",
            "Downloading cuda_quantum_cu12-0.11.0-cp311-cp311-manylinux_2_28_x86_64.whl (124.6 MB)\n",
            "\u001b[2K   \u001b[90m━━━━━━━━━━━━━━━━━━━━━━━━━━━━━━━━━━━━━━━━\u001b[0m \u001b[32m124.6/124.6 MB\u001b[0m \u001b[31m7.6 MB/s\u001b[0m eta \u001b[36m0:00:00\u001b[0m\n",
            "\u001b[?25hDownloading astpretty-3.0.0-py2.py3-none-any.whl (4.9 kB)\n",
            "Downloading cuquantum_python_cu12-25.3.0-cp311-cp311-manylinux2014_x86_64.whl (5.2 MB)\n",
            "\u001b[2K   \u001b[90m━━━━━━━━━━━━━━━━━━━━━━━━━━━━━━━━━━━━━━━━\u001b[0m \u001b[32m5.2/5.2 MB\u001b[0m \u001b[31m20.3 MB/s\u001b[0m eta \u001b[36m0:00:00\u001b[0m\n",
            "\u001b[?25hDownloading cudensitymat_cu12-0.1.0-py3-none-manylinux2014_x86_64.whl (4.0 MB)\n",
            "\u001b[2K   \u001b[90m━━━━━━━━━━━━━━━━━━━━━━━━━━━━━━━━━━━━━━━━\u001b[0m \u001b[32m4.0/4.0 MB\u001b[0m \u001b[31m23.2 MB/s\u001b[0m eta \u001b[36m0:00:00\u001b[0m\n",
            "\u001b[?25hDownloading custatevec_cu12-1.8.0-py3-none-manylinux2014_x86_64.whl (44.3 MB)\n",
            "\u001b[2K   \u001b[90m━━━━━━━━━━━━━━━━━━━━━━━━━━━━━━━━━━━━━━━━\u001b[0m \u001b[32m44.3/44.3 MB\u001b[0m \u001b[31m16.4 MB/s\u001b[0m eta \u001b[36m0:00:00\u001b[0m\n",
            "\u001b[?25hDownloading cutensornet_cu12-2.7.0-py3-none-manylinux2014_x86_64.whl (2.6 MB)\n",
            "\u001b[2K   \u001b[90m━━━━━━━━━━━━━━━━━━━━━━━━━━━━━━━━━━━━━━━━\u001b[0m \u001b[32m2.6/2.6 MB\u001b[0m \u001b[31m85.1 MB/s\u001b[0m eta \u001b[36m0:00:00\u001b[0m\n",
            "\u001b[?25hDownloading cutensor_cu12-2.2.0-py3-none-manylinux2014_x86_64.whl (202.3 MB)\n",
            "\u001b[2K   \u001b[90m━━━━━━━━━━━━━━━━━━━━━━━━━━━━━━━━━━━━━━━━\u001b[0m \u001b[32m202.3/202.3 MB\u001b[0m \u001b[31m7.5 MB/s\u001b[0m eta \u001b[36m0:00:00\u001b[0m\n",
            "\u001b[?25hBuilding wheels for collected packages: cudaq\n",
            "  Building wheel for cudaq (pyproject.toml) ... \u001b[?25l\u001b[?25hdone\n",
            "  Created wheel for cudaq: filename=cudaq-0.11.0-py3-none-any.whl size=6897 sha256=1488d05655fee18db50d06f96bd3326c6d2e1c22c94eb8666790c83be4c7932e\n",
            "  Stored in directory: /root/.cache/pip/wheels/ad/0f/19/60352710d764963c7c1cb5d5f1ab78dc76e1b542899b33c35a\n",
            "Successfully built cudaq\n",
            "Installing collected packages: cutensor-cu12, custatevec-cu12, cutensornet-cu12, cudensitymat-cu12, astpretty, cuquantum-python-cu12, cuda-quantum-cu12, cudaq\n",
            "Successfully installed astpretty-3.0.0 cuda-quantum-cu12-0.11.0 cudaq-0.11.0 cudensitymat-cu12-0.1.0 cuquantum-python-cu12-25.3.0 custatevec-cu12-1.8.0 cutensor-cu12-2.2.0 cutensornet-cu12-2.7.0\n",
            "Requirement already satisfied: ipywidgets in /usr/local/lib/python3.11/dist-packages (7.7.1)\n",
            "Requirement already satisfied: ipykernel>=4.5.1 in /usr/local/lib/python3.11/dist-packages (from ipywidgets) (6.17.1)\n",
            "Requirement already satisfied: ipython-genutils~=0.2.0 in /usr/local/lib/python3.11/dist-packages (from ipywidgets) (0.2.0)\n",
            "Requirement already satisfied: traitlets>=4.3.1 in /usr/local/lib/python3.11/dist-packages (from ipywidgets) (5.7.1)\n",
            "Requirement already satisfied: widgetsnbextension~=3.6.0 in /usr/local/lib/python3.11/dist-packages (from ipywidgets) (3.6.10)\n",
            "Requirement already satisfied: ipython>=4.0.0 in /usr/local/lib/python3.11/dist-packages (from ipywidgets) (7.34.0)\n",
            "Requirement already satisfied: jupyterlab-widgets>=1.0.0 in /usr/local/lib/python3.11/dist-packages (from ipywidgets) (3.0.15)\n",
            "Requirement already satisfied: debugpy>=1.0 in /usr/local/lib/python3.11/dist-packages (from ipykernel>=4.5.1->ipywidgets) (1.8.0)\n",
            "Requirement already satisfied: jupyter-client>=6.1.12 in /usr/local/lib/python3.11/dist-packages (from ipykernel>=4.5.1->ipywidgets) (6.1.12)\n",
            "Requirement already satisfied: matplotlib-inline>=0.1 in /usr/local/lib/python3.11/dist-packages (from ipykernel>=4.5.1->ipywidgets) (0.1.7)\n",
            "Requirement already satisfied: nest-asyncio in /usr/local/lib/python3.11/dist-packages (from ipykernel>=4.5.1->ipywidgets) (1.6.0)\n",
            "Requirement already satisfied: packaging in /usr/local/lib/python3.11/dist-packages (from ipykernel>=4.5.1->ipywidgets) (24.2)\n",
            "Requirement already satisfied: psutil in /usr/local/lib/python3.11/dist-packages (from ipykernel>=4.5.1->ipywidgets) (5.9.5)\n",
            "Requirement already satisfied: pyzmq>=17 in /usr/local/lib/python3.11/dist-packages (from ipykernel>=4.5.1->ipywidgets) (24.0.1)\n",
            "Requirement already satisfied: tornado>=6.1 in /usr/local/lib/python3.11/dist-packages (from ipykernel>=4.5.1->ipywidgets) (6.4.2)\n",
            "Requirement already satisfied: setuptools>=18.5 in /usr/local/lib/python3.11/dist-packages (from ipython>=4.0.0->ipywidgets) (75.2.0)\n",
            "Collecting jedi>=0.16 (from ipython>=4.0.0->ipywidgets)\n",
            "  Downloading jedi-0.19.2-py2.py3-none-any.whl.metadata (22 kB)\n",
            "Requirement already satisfied: decorator in /usr/local/lib/python3.11/dist-packages (from ipython>=4.0.0->ipywidgets) (4.4.2)\n",
            "Requirement already satisfied: pickleshare in /usr/local/lib/python3.11/dist-packages (from ipython>=4.0.0->ipywidgets) (0.7.5)\n",
            "Requirement already satisfied: prompt-toolkit!=3.0.0,!=3.0.1,<3.1.0,>=2.0.0 in /usr/local/lib/python3.11/dist-packages (from ipython>=4.0.0->ipywidgets) (3.0.51)\n",
            "Requirement already satisfied: pygments in /usr/local/lib/python3.11/dist-packages (from ipython>=4.0.0->ipywidgets) (2.19.1)\n",
            "Requirement already satisfied: backcall in /usr/local/lib/python3.11/dist-packages (from ipython>=4.0.0->ipywidgets) (0.2.0)\n",
            "Requirement already satisfied: pexpect>4.3 in /usr/local/lib/python3.11/dist-packages (from ipython>=4.0.0->ipywidgets) (4.9.0)\n",
            "Requirement already satisfied: notebook>=4.4.1 in /usr/local/lib/python3.11/dist-packages (from widgetsnbextension~=3.6.0->ipywidgets) (6.5.7)\n",
            "Requirement already satisfied: parso<0.9.0,>=0.8.4 in /usr/local/lib/python3.11/dist-packages (from jedi>=0.16->ipython>=4.0.0->ipywidgets) (0.8.4)\n",
            "Requirement already satisfied: jupyter-core>=4.6.0 in /usr/local/lib/python3.11/dist-packages (from jupyter-client>=6.1.12->ipykernel>=4.5.1->ipywidgets) (5.8.1)\n",
            "Requirement already satisfied: python-dateutil>=2.1 in /usr/local/lib/python3.11/dist-packages (from jupyter-client>=6.1.12->ipykernel>=4.5.1->ipywidgets) (2.9.0.post0)\n",
            "Requirement already satisfied: jinja2 in /usr/local/lib/python3.11/dist-packages (from notebook>=4.4.1->widgetsnbextension~=3.6.0->ipywidgets) (3.1.6)\n",
            "Requirement already satisfied: argon2-cffi in /usr/local/lib/python3.11/dist-packages (from notebook>=4.4.1->widgetsnbextension~=3.6.0->ipywidgets) (25.1.0)\n",
            "Requirement already satisfied: nbformat in /usr/local/lib/python3.11/dist-packages (from notebook>=4.4.1->widgetsnbextension~=3.6.0->ipywidgets) (5.10.4)\n",
            "Requirement already satisfied: nbconvert>=5 in /usr/local/lib/python3.11/dist-packages (from notebook>=4.4.1->widgetsnbextension~=3.6.0->ipywidgets) (7.16.6)\n",
            "Requirement already satisfied: Send2Trash>=1.8.0 in /usr/local/lib/python3.11/dist-packages (from notebook>=4.4.1->widgetsnbextension~=3.6.0->ipywidgets) (1.8.3)\n",
            "Requirement already satisfied: terminado>=0.8.3 in /usr/local/lib/python3.11/dist-packages (from notebook>=4.4.1->widgetsnbextension~=3.6.0->ipywidgets) (0.18.1)\n",
            "Requirement already satisfied: prometheus-client in /usr/local/lib/python3.11/dist-packages (from notebook>=4.4.1->widgetsnbextension~=3.6.0->ipywidgets) (0.22.1)\n",
            "Requirement already satisfied: nbclassic>=0.4.7 in /usr/local/lib/python3.11/dist-packages (from notebook>=4.4.1->widgetsnbextension~=3.6.0->ipywidgets) (1.3.1)\n",
            "Requirement already satisfied: ptyprocess>=0.5 in /usr/local/lib/python3.11/dist-packages (from pexpect>4.3->ipython>=4.0.0->ipywidgets) (0.7.0)\n",
            "Requirement already satisfied: wcwidth in /usr/local/lib/python3.11/dist-packages (from prompt-toolkit!=3.0.0,!=3.0.1,<3.1.0,>=2.0.0->ipython>=4.0.0->ipywidgets) (0.2.13)\n",
            "Requirement already satisfied: platformdirs>=2.5 in /usr/local/lib/python3.11/dist-packages (from jupyter-core>=4.6.0->jupyter-client>=6.1.12->ipykernel>=4.5.1->ipywidgets) (4.3.8)\n",
            "Requirement already satisfied: notebook-shim>=0.2.3 in /usr/local/lib/python3.11/dist-packages (from nbclassic>=0.4.7->notebook>=4.4.1->widgetsnbextension~=3.6.0->ipywidgets) (0.2.4)\n",
            "Requirement already satisfied: beautifulsoup4 in /usr/local/lib/python3.11/dist-packages (from nbconvert>=5->notebook>=4.4.1->widgetsnbextension~=3.6.0->ipywidgets) (4.13.4)\n",
            "Requirement already satisfied: bleach!=5.0.0 in /usr/local/lib/python3.11/dist-packages (from bleach[css]!=5.0.0->nbconvert>=5->notebook>=4.4.1->widgetsnbextension~=3.6.0->ipywidgets) (6.2.0)\n",
            "Requirement already satisfied: defusedxml in /usr/local/lib/python3.11/dist-packages (from nbconvert>=5->notebook>=4.4.1->widgetsnbextension~=3.6.0->ipywidgets) (0.7.1)\n",
            "Requirement already satisfied: jupyterlab-pygments in /usr/local/lib/python3.11/dist-packages (from nbconvert>=5->notebook>=4.4.1->widgetsnbextension~=3.6.0->ipywidgets) (0.3.0)\n",
            "Requirement already satisfied: markupsafe>=2.0 in /usr/local/lib/python3.11/dist-packages (from nbconvert>=5->notebook>=4.4.1->widgetsnbextension~=3.6.0->ipywidgets) (3.0.2)\n",
            "Requirement already satisfied: mistune<4,>=2.0.3 in /usr/local/lib/python3.11/dist-packages (from nbconvert>=5->notebook>=4.4.1->widgetsnbextension~=3.6.0->ipywidgets) (3.1.3)\n",
            "Requirement already satisfied: nbclient>=0.5.0 in /usr/local/lib/python3.11/dist-packages (from nbconvert>=5->notebook>=4.4.1->widgetsnbextension~=3.6.0->ipywidgets) (0.10.2)\n",
            "Requirement already satisfied: pandocfilters>=1.4.1 in /usr/local/lib/python3.11/dist-packages (from nbconvert>=5->notebook>=4.4.1->widgetsnbextension~=3.6.0->ipywidgets) (1.5.1)\n",
            "Requirement already satisfied: fastjsonschema>=2.15 in /usr/local/lib/python3.11/dist-packages (from nbformat->notebook>=4.4.1->widgetsnbextension~=3.6.0->ipywidgets) (2.21.1)\n",
            "Requirement already satisfied: jsonschema>=2.6 in /usr/local/lib/python3.11/dist-packages (from nbformat->notebook>=4.4.1->widgetsnbextension~=3.6.0->ipywidgets) (4.24.0)\n",
            "Requirement already satisfied: six>=1.5 in /usr/local/lib/python3.11/dist-packages (from python-dateutil>=2.1->jupyter-client>=6.1.12->ipykernel>=4.5.1->ipywidgets) (1.17.0)\n",
            "Requirement already satisfied: argon2-cffi-bindings in /usr/local/lib/python3.11/dist-packages (from argon2-cffi->notebook>=4.4.1->widgetsnbextension~=3.6.0->ipywidgets) (21.2.0)\n",
            "Requirement already satisfied: webencodings in /usr/local/lib/python3.11/dist-packages (from bleach!=5.0.0->bleach[css]!=5.0.0->nbconvert>=5->notebook>=4.4.1->widgetsnbextension~=3.6.0->ipywidgets) (0.5.1)\n",
            "Requirement already satisfied: tinycss2<1.5,>=1.1.0 in /usr/local/lib/python3.11/dist-packages (from bleach[css]!=5.0.0->nbconvert>=5->notebook>=4.4.1->widgetsnbextension~=3.6.0->ipywidgets) (1.4.0)\n",
            "Requirement already satisfied: attrs>=22.2.0 in /usr/local/lib/python3.11/dist-packages (from jsonschema>=2.6->nbformat->notebook>=4.4.1->widgetsnbextension~=3.6.0->ipywidgets) (25.3.0)\n",
            "Requirement already satisfied: jsonschema-specifications>=2023.03.6 in /usr/local/lib/python3.11/dist-packages (from jsonschema>=2.6->nbformat->notebook>=4.4.1->widgetsnbextension~=3.6.0->ipywidgets) (2025.4.1)\n",
            "Requirement already satisfied: referencing>=0.28.4 in /usr/local/lib/python3.11/dist-packages (from jsonschema>=2.6->nbformat->notebook>=4.4.1->widgetsnbextension~=3.6.0->ipywidgets) (0.36.2)\n",
            "Requirement already satisfied: rpds-py>=0.7.1 in /usr/local/lib/python3.11/dist-packages (from jsonschema>=2.6->nbformat->notebook>=4.4.1->widgetsnbextension~=3.6.0->ipywidgets) (0.25.1)\n",
            "Requirement already satisfied: jupyter-server<3,>=1.8 in /usr/local/lib/python3.11/dist-packages (from notebook-shim>=0.2.3->nbclassic>=0.4.7->notebook>=4.4.1->widgetsnbextension~=3.6.0->ipywidgets) (1.16.0)\n",
            "Requirement already satisfied: cffi>=1.0.1 in /usr/local/lib/python3.11/dist-packages (from argon2-cffi-bindings->argon2-cffi->notebook>=4.4.1->widgetsnbextension~=3.6.0->ipywidgets) (1.17.1)\n",
            "Requirement already satisfied: soupsieve>1.2 in /usr/local/lib/python3.11/dist-packages (from beautifulsoup4->nbconvert>=5->notebook>=4.4.1->widgetsnbextension~=3.6.0->ipywidgets) (2.7)\n",
            "Requirement already satisfied: typing-extensions>=4.0.0 in /usr/local/lib/python3.11/dist-packages (from beautifulsoup4->nbconvert>=5->notebook>=4.4.1->widgetsnbextension~=3.6.0->ipywidgets) (4.14.0)\n",
            "Requirement already satisfied: pycparser in /usr/local/lib/python3.11/dist-packages (from cffi>=1.0.1->argon2-cffi-bindings->argon2-cffi->notebook>=4.4.1->widgetsnbextension~=3.6.0->ipywidgets) (2.22)\n",
            "Requirement already satisfied: anyio>=3.1.0 in /usr/local/lib/python3.11/dist-packages (from jupyter-server<3,>=1.8->notebook-shim>=0.2.3->nbclassic>=0.4.7->notebook>=4.4.1->widgetsnbextension~=3.6.0->ipywidgets) (4.9.0)\n",
            "Requirement already satisfied: websocket-client in /usr/local/lib/python3.11/dist-packages (from jupyter-server<3,>=1.8->notebook-shim>=0.2.3->nbclassic>=0.4.7->notebook>=4.4.1->widgetsnbextension~=3.6.0->ipywidgets) (1.8.0)\n",
            "Requirement already satisfied: idna>=2.8 in /usr/local/lib/python3.11/dist-packages (from anyio>=3.1.0->jupyter-server<3,>=1.8->notebook-shim>=0.2.3->nbclassic>=0.4.7->notebook>=4.4.1->widgetsnbextension~=3.6.0->ipywidgets) (3.10)\n",
            "Requirement already satisfied: sniffio>=1.1 in /usr/local/lib/python3.11/dist-packages (from anyio>=3.1.0->jupyter-server<3,>=1.8->notebook-shim>=0.2.3->nbclassic>=0.4.7->notebook>=4.4.1->widgetsnbextension~=3.6.0->ipywidgets) (1.3.1)\n",
            "Downloading jedi-0.19.2-py2.py3-none-any.whl (1.6 MB)\n",
            "\u001b[2K   \u001b[90m━━━━━━━━━━━━━━━━━━━━━━━━━━━━━━━━━━━━━━━━\u001b[0m \u001b[32m1.6/1.6 MB\u001b[0m \u001b[31m16.0 MB/s\u001b[0m eta \u001b[36m0:00:00\u001b[0m\n",
            "\u001b[?25hInstalling collected packages: jedi\n",
            "Successfully installed jedi-0.19.2\n",
            "Requirement already satisfied: matplotlib in /usr/local/lib/python3.11/dist-packages (3.10.0)\n",
            "Requirement already satisfied: contourpy>=1.0.1 in /usr/local/lib/python3.11/dist-packages (from matplotlib) (1.3.2)\n",
            "Requirement already satisfied: cycler>=0.10 in /usr/local/lib/python3.11/dist-packages (from matplotlib) (0.12.1)\n",
            "Requirement already satisfied: fonttools>=4.22.0 in /usr/local/lib/python3.11/dist-packages (from matplotlib) (4.58.4)\n",
            "Requirement already satisfied: kiwisolver>=1.3.1 in /usr/local/lib/python3.11/dist-packages (from matplotlib) (1.4.8)\n",
            "Requirement already satisfied: numpy>=1.23 in /usr/local/lib/python3.11/dist-packages (from matplotlib) (2.0.2)\n",
            "Requirement already satisfied: packaging>=20.0 in /usr/local/lib/python3.11/dist-packages (from matplotlib) (24.2)\n",
            "Requirement already satisfied: pillow>=8 in /usr/local/lib/python3.11/dist-packages (from matplotlib) (11.2.1)\n",
            "Requirement already satisfied: pyparsing>=2.3.1 in /usr/local/lib/python3.11/dist-packages (from matplotlib) (3.2.3)\n",
            "Requirement already satisfied: python-dateutil>=2.7 in /usr/local/lib/python3.11/dist-packages (from matplotlib) (2.9.0.post0)\n",
            "Requirement already satisfied: six>=1.5 in /usr/local/lib/python3.11/dist-packages (from python-dateutil>=2.7->matplotlib) (1.17.0)\n",
            "Collecting qutip\n",
            "  Downloading qutip-5.2.0-cp311-cp311-manylinux_2_17_x86_64.manylinux2014_x86_64.whl.metadata (9.5 kB)\n",
            "Requirement already satisfied: numpy>=1.22 in /usr/local/lib/python3.11/dist-packages (from qutip) (2.0.2)\n",
            "Requirement already satisfied: scipy>=1.9 in /usr/local/lib/python3.11/dist-packages (from qutip) (1.15.3)\n",
            "Requirement already satisfied: packaging in /usr/local/lib/python3.11/dist-packages (from qutip) (24.2)\n",
            "Downloading qutip-5.2.0-cp311-cp311-manylinux_2_17_x86_64.manylinux2014_x86_64.whl (31.4 MB)\n",
            "\u001b[2K   \u001b[90m━━━━━━━━━━━━━━━━━━━━━━━━━━━━━━━━━━━━━━━━\u001b[0m \u001b[32m31.4/31.4 MB\u001b[0m \u001b[31m63.1 MB/s\u001b[0m eta \u001b[36m0:00:00\u001b[0m\n",
            "\u001b[?25hInstalling collected packages: qutip\n",
            "Successfully installed qutip-5.2.0\n"
          ]
        }
      ],
      "source": [
        "# Instructions for Google Colab. You can ignore this cell if you have cuda-q and ipywidgets set up.\n",
        "# Run this notebook in a CPU runtime\n",
        "# Uncomment the lines below and execute the cell to install necessary packages.\n",
        "!pip install cudaq\n",
        "!pip install ipywidgets\n",
        "!pip install matplotlib\n",
        "!pip install qutip"
      ]
    },
    {
      "cell_type": "code",
      "execution_count": 4,
      "id": "644b9c82",
      "metadata": {
        "id": "644b9c82"
      },
      "outputs": [],
      "source": [
        "# Necessary packages\n",
        "\n",
        "import cudaq\n",
        "import numpy as np\n",
        "import matplotlib.pyplot as plt\n",
        "from IPython.display import display, HTML, clear_output\n",
        "import ipywidgets as widgets\n",
        "from ipywidgets import interactive_output, HBox, VBox"
      ]
    },
    {
      "cell_type": "markdown",
      "id": "c2fa8e57-2f20-4d1b-a8c1-a8291da83fdc",
      "metadata": {
        "id": "c2fa8e57-2f20-4d1b-a8c1-a8291da83fdc"
      },
      "source": [
        "## 2.1 Program with more than one qubit\n"
      ]
    },
    {
      "cell_type": "markdown",
      "id": "1d81c1fd",
      "metadata": {
        "id": "1d81c1fd"
      },
      "source": [
        "In this section, we'll create two quantum programs to illustrate the concepts of global phase and entanglement.  Additionally, these examples will allow us to demonstrate alternative ways of writing and combining multiple kernels &mdash; a useful technique to have on hand as our quantum algorithms grow in the number of qubits and the number of gate operations.  Both the number of qubits and the number of gate operations are limiting factors in the kind of quantum algorithms that can be run on current quantum hardware or simulated on GPUs.  In fact, we'll quickly see examples of quantum algorithms that we can program, but cannot implement with today's existing technology.\n",
        "\n"
      ]
    },
    {
      "cell_type": "markdown",
      "id": "73a716ba",
      "metadata": {
        "id": "73a716ba"
      },
      "source": [
        "### 2.1.1 Notation for a 2-qubit state\n",
        "$\\renewcommand{\\ket}[1]{|#1\\rangle}$\n",
        "In Lab 1, we saw that the quantum state of a single qubit could be written as linear combinations of the states $|0\\rangle$ and $|1\\rangle$.  The states $|0\\rangle$ and $|1\\rangle$ are often referred to as the computational basis states of a single qubit.  When we have 2 qubits, we will need $2^2 = 4$ basis states to describe all possible quantum states of 2 qubits because each qubit could be measured as either a $0$ or a $1$.  The computational basis states used to describe a state of 2 qubits are\n",
        "$$\\ket{00}, \\ket{01}, \\ket{10},  \\text{ and }\\ket{11}.$$\n",
        "\n",
        "What does this notation mean? The expression $\\ket{10}$ represents the state of a system of 2 qubits, (e.g., $q_0$ and $q_1$), where qubit $q_0$ is in the state $\\ket{1}$ and $q_1$ is in the state $\\ket{0}$.  In other words, the left most term (the $1$ in $\\ket{10}$) corresponds to qubit $q_0$'s state and the rightmost term will be correspond to the state of the 2nd qubit.  Since there is no agreed upon standard ordering of qubits, this notational choice may differ from other quantum programming languages that you might run across.\n",
        "\n",
        "The general form of a quantum state of 2 qubits, is a linear combination (or a superposition) of the computational basis states:\n",
        "\n",
        "$$\\ket{\\psi} = \\alpha_{00}\\ket{00}+\\alpha_{10}\\ket{10}+\\alpha_{01}\\ket{01}+\\alpha_{11}\\ket{11},$$\n",
        "where each coefficient (also called a **probability amplitude**) $\\alpha_{ij}$ is a complex number and the sum of the probabilities corresponding to these coefficients is 1, that is: $$\\sum_{i,j\\in\\{0,1\\}} |\\alpha_{ij}|^2 =1.$$  \n",
        "\n",
        "Somtimes it is useful, albeit often less compact, to write the state $\\ket{\\psi}$ as a vector of probability amplitudes:\n",
        "$$\\ket{\\psi} = \\alpha_{00}\\ket{00}+\\alpha_{10}\\ket{10}+\\alpha_{01}\\ket{01}+\\alpha_{11}\\ket{11}\n",
        " = \\begin{pmatrix}\\alpha_{00} \\\\ \\alpha_{01} \\\\ \\alpha_{10} \\\\ \\alpha_{11}\\end{pmatrix}$$\n",
        "\n",
        "> **Note:** The ordering listed in the sum of the computational basis states $(00, 10, 01, 11)$ differs from the ordering in the vertical vector. We introduce both of these conventions because the ordering  $(00, 10, 01, 11)$ is used when we execute the `get_state` function, while the ordering in the vertical vector $(00, 01, 10, 11)$ is used in matrix and tensor algebra computations.\n",
        "\n",
        "In the literature, the term **statevector** refers to a quantum state $\\ket{\\psi}$, but can also refer to the list of probability amplitudes of a quantum state $\\ket{\\psi}$.  \n",
        "\n"
      ]
    },
    {
      "cell_type": "markdown",
      "id": "e1ef530e",
      "metadata": {
        "id": "e1ef530e"
      },
      "source": [
        "### 2.1.2 Write and interpret a 2-qubit quantum program"
      ]
    },
    {
      "cell_type": "markdown",
      "id": "f8e103cf",
      "metadata": {
        "id": "f8e103cf"
      },
      "source": [
        "In this section, we'll write a program that builds upon the Bit-Flip and Hello World (minus state) programs from Lab 1.  In particular, our goal is to create one program with 2 qubits.  The first qubit will be initialized in the zero state, and we'll flip it to the one state.  The second qubit will be initialized in the minus state, and just for fun we'll apply the bit flip gate `x` to it too. The diagram represents the circuit for this program.\n",
        "\n",
        "<img src=\"https://raw.githubusercontent.com/NVIDIA/cuda-q-academic/refs/heads/main/images/2-qubit-circuit.png\" alt=\"quantum circuit diagram with 2 qubits\" width=\"200\"/>\n",
        "\n",
        "In our example, qubit $q_0$, which starts in the $\\ket{0}$ state undergoes a bit flip.  So we would expect, as we saw in Lab 1, that when the kernel is sampled in a noiseless setting, $q_0$ will be measured  $100\\%$ of the time as a $\\ket{1}$.   On the other hand, because qubit $q_1$ will be in a state of equal superposition, it will collapse to the $\\ket{0}$ state approximately half of the time and will collapse to $\\ket{1}$ the other times. Putting the information about the state of $q_0$ and $q_1$ together, we expect a $50\\%$ probability of sampling a $\\ket{10}$ and  $50\\%$ probability of sampling a $\\ket{11}$ when running the program depicted above.\n",
        "\n",
        "The statevector of the 2-qubit system after the gates are applied, but  prior to measurement should be $$\\ket{\\psi} = -\\frac{1}{\\sqrt{2}}\\ket{10} +\\frac{1}{\\sqrt{2}}\\ket{11} = \\begin{pmatrix}0 \\\\ 0 \\\\ -\\frac{1}{\\sqrt{2}} \\\\ \\frac{1}{\\sqrt{2}} \\end{pmatrix}$$\n",
        "\n",
        "To understand the appearance of the minus sign in the equation above, refer to the optional section on phase later in this notebook.  For now, just notice that by squaring the absolute values of the amplitudes, we see a $50\\%$ probability of sampling a $\\ket{10}$ and  $50\\%$ probability of sampling a $\\ket{11}$.\n",
        "\n",
        "We have several options for writing the CUDA-Q code to carry out the instructions above.  In the next subsections, we'll take a look at two options so that you can see some of the functionality of `cudaq.kernel`. In particular, we'll demonstrate\n",
        "* how to pass individual qubits or a register of qubits to a kernel and\n",
        "* how to use kernels as subkernels (subroutines).\n",
        "\n"
      ]
    },
    {
      "cell_type": "markdown",
      "id": "bf62f27b",
      "metadata": {
        "id": "bf62f27b"
      },
      "source": [
        "#### 2.1.2.1 All-in-one kernel"
      ]
    },
    {
      "cell_type": "markdown",
      "id": "4d2e91a6",
      "metadata": {
        "id": "4d2e91a6"
      },
      "source": [
        "We'll first code the quantum circuit like we did in Lab 1, by writing all the instructions sequentially in one kernel."
      ]
    },
    {
      "cell_type": "code",
      "execution_count": 3,
      "id": "d35429b4",
      "metadata": {
        "id": "d35429b4",
        "outputId": "f6d5d5f5-d368-4c4f-bf7c-f03d26758810",
        "colab": {
          "base_uri": "https://localhost:8080/"
        }
      },
      "outputs": [
        {
          "output_type": "stream",
          "name": "stdout",
          "text": [
            "     ╭───╮          \n",
            "q0 : ┤ x ├──────────\n",
            "     ├───┤╭───╮╭───╮\n",
            "q1 : ┤ x ├┤ h ├┤ x ├\n",
            "     ╰───╯╰───╯╰───╯\n",
            "\n"
          ]
        }
      ],
      "source": [
        "# Writing the all-in-one kernel\n",
        "\n",
        "@cudaq.kernel\n",
        "def all_in_one():\n",
        "    \"\"\"Creates a kernel with 2 qubits. The first qubit is initialized\n",
        "    in the zero state, the second qubit is initialized in the minus state.\n",
        "    An x gate is then applied to each qubit.\n",
        "    \"\"\"\n",
        "    # Allocate 2 qubits (indexed by 0 and 1)\n",
        "    qvector = cudaq.qvector(2) # By default these qubits are the zero state\n",
        "\n",
        "    # Initialize qubit indexed with 1 as the minus state\n",
        "    x(qvector[1])\n",
        "    h(qvector[1])\n",
        "\n",
        "    # Manipulate the quantum states by applying the bit flip gate (the `x` gate) to each qubit\n",
        "    x(qvector) # We can apply a single-qubit gate to each qubit in a list of qubits\n",
        "\n",
        "print(cudaq.draw(all_in_one))\n",
        "\n"
      ]
    },
    {
      "cell_type": "markdown",
      "id": "67e65fef",
      "metadata": {
        "id": "67e65fef"
      },
      "source": [
        "Let's check that this kernel generates our target state $\\ket{\\psi} = -\\frac{1}{\\sqrt{2}}\\ket{10} +\\frac{1}{\\sqrt{2}}\\ket{11}$ by using the `get_state` command.  We'll also use the `get_state.amplitudes` option to extract out the coefficients of the computational basis states $\\ket{10}$ and $\\ket{11}$ that are of interest to us."
      ]
    },
    {
      "cell_type": "code",
      "execution_count": 4,
      "id": "79a1f557",
      "metadata": {
        "id": "79a1f557",
        "outputId": "a3f27382-4454-41ff-e393-4a95f02cb014",
        "colab": {
          "base_uri": "https://localhost:8080/"
        }
      },
      "outputs": [
        {
          "output_type": "stream",
          "name": "stdout",
          "text": [
            "All-in-one statevector array of coefficients: [ 0.    +0.j -0.7071+0.j  0.    +0.j  0.7071+0.j]\n",
            "All-in-one statevector: (-0.7071+0j) |10> + (0.7071+0j) |11>\n"
          ]
        }
      ],
      "source": [
        "# Compute the state of the system prior to measurement\n",
        "all_in_one_state = cudaq.get_state(all_in_one)\n",
        "\n",
        "# Return the amplitudes of |10> and |11>\n",
        "all_in_one_amplitudes = all_in_one_state.amplitudes([[1,0], [1,1]])\n",
        "\n",
        "# Print\n",
        "precision = 4\n",
        "print('All-in-one statevector array of coefficients:', np.round(np.array(all_in_one_state), precision))\n",
        "print('All-in-one statevector: {} |10> + {} |11>'.format(np.round(all_in_one_amplitudes[0],precision), np.round(all_in_one_amplitudes[1],precision)))\n"
      ]
    },
    {
      "cell_type": "markdown",
      "id": "7dc599bc",
      "metadata": {
        "id": "7dc599bc"
      },
      "source": [
        "> **Quick Tip:**\n",
        "\n",
        "To remember the ordering of the coefficients in the statevector generated by the `get_state` command, it helps to recall the convention for associating numbers with their binary representations that places the least significant bit on the left.  For example, in a 2-bit system, we have the following translation between integers and bits:\n",
        "$$\\begin{matrix} \\text{Integer} & \\text{Binary representation}\\\\\n",
        "& \\text{least signinificant bit on left}\\\\\n",
        "0 =\\color{red}{0}*2^0+\\color{blue}{0}*2^1 & \\color{red}{0}\\color{blue}{0} \\\\\n",
        "1 = \\color{red}{1}*2^0 + \\color{blue}{0} *2^1 & \\color{red}{1}\\color{blue}{0}\\\\\n",
        "2 = \\color{red}{0}*2^0 + \\color{blue}{1}*2^1 & \\color{red}{0}\\color{blue}{1} \\\\\n",
        "3 = \\color{red}{1}*2^0 + \\color{blue}{1}*2^1 & \\color{red}{1}\\color{blue}{1} \\end{matrix}\n",
        "$$\n",
        "\n",
        "> The `get_state` output generates a list of the coefficients in increasing order: $\\ket{00}, \\ket{10}, \\ket{01}, \\ket{11}$, corresponding to $0,1,2,3.$ To conveniently identify the coefficient for a given basis state, use the `get_state().amplitude()` command. For example, to extract the coefficient for the basis state $\\ket{10}$, use `get_state(my_kernel).amplitude([1,0])`.  To retrieve the amplitudes of more than one state at a time, use the `amplitudes` option applied to a list of basis states, as demonstrated in the code block above.\n"
      ]
    },
    {
      "cell_type": "markdown",
      "id": "4e976a9b",
      "metadata": {
        "id": "4e976a9b"
      },
      "source": [
        "#### 2.1.2.2 Kernels as subroutines"
      ]
    },
    {
      "cell_type": "markdown",
      "id": "dd75f4e7",
      "metadata": {
        "id": "dd75f4e7"
      },
      "source": [
        "In this section, we will create the same quantum circuit as above, but this time we'll use kernels as subroutines. We'll create three separate kernels:\n",
        "\n",
        "* `minus`, a kernel for the subroutine that initializes a given qubit as the minus state\n",
        "* `xgate`, a kernel that applies the `x` gate to a list of qubits\n",
        "* `nested_quantum_program`, a kernel to allocate the qubits and call the `minus` and `xgate` subroutines\n",
        "\n",
        "Let's see how this is done. Take note of how we can pass qubits and lists of qubits to the kernel functions."
      ]
    },
    {
      "cell_type": "code",
      "execution_count": null,
      "id": "f160458a",
      "metadata": {
        "id": "f160458a",
        "outputId": "35a6b3b7-368f-4d9f-e1e7-c79c95b07001",
        "colab": {
          "base_uri": "https://localhost:8080/"
        }
      },
      "outputs": [
        {
          "output_type": "stream",
          "name": "stdout",
          "text": [
            "     ╭───╮          \n",
            "q0 : ┤ x ├──────────\n",
            "     ├───┤╭───╮╭───╮\n",
            "q1 : ┤ x ├┤ h ├┤ x ├\n",
            "     ╰───╯╰───╯╰───╯\n",
            "\n"
          ]
        }
      ],
      "source": [
        "# Defining three kernels to generate the example circuit\n",
        "\n",
        "# Defining the subroutine, minus, as a kernel\n",
        "@cudaq.kernel\n",
        "def minus(qubit: cudaq.qubit):\n",
        "    \"\"\"When applied to a qubit in the zero state, generates the minus state\n",
        "    Parameters\n",
        "    ----------\n",
        "    qubit : cudaq.qubit\n",
        "        qubit upon which the kernel instructions will be applied\n",
        "    \"\"\"\n",
        "    x(qubit)\n",
        "    h(qubit)\n",
        "\n",
        "# Defining the subroutine, xgate, as a kernel\n",
        "@cudaq.kernel\n",
        "def xgate(qubits: cudaq.qvector):\n",
        "    \"\"\"Applies an x-gate to each qubit in qubits\n",
        "    Parameters\n",
        "    ----------\n",
        "    qubits : cudaq.qvector\n",
        "        list of qubits upon which the kernel instructions will be applied\n",
        "    \"\"\"\n",
        "    x(qubits)\n",
        "\n",
        "# Allocating qubits and calling the subroutines defined above\n",
        "@cudaq.kernel\n",
        "def nested_quantum_program(num_qubits: int):\n",
        "    \"\"\"Creates a kernel with num_qubits-many qubits. The first qubit is initialized\n",
        "    in the zero state, the second qubit is initialized in the minus state.\n",
        "    An x gate is then applied to each qubit. Here num_qubits is at least 2.\n",
        "    Parameters\n",
        "    ----------\n",
        "    num_qubits : int\n",
        "        Number of qubits to be allocated\n",
        "    \"\"\"\n",
        "\n",
        "    # Allocate num_qubits qubits indexed from 0 to num_qubits-1\n",
        "    qvector = cudaq.qvector(num_qubits) # By default these qubits are in the zero state\n",
        "\n",
        "    # Initialize the qubit indexed with 1 as the minus state\n",
        "    # by calling the minus kernel acting on qvector[1]\n",
        "    minus(qvector[1])\n",
        "\n",
        "    # Manipulate the quantum states by applying the bit flip gate (the `x` gate) to each qubit\n",
        "    # by calling the xgate kernel applied to a list of qubits\n",
        "    xgate(qvector)\n",
        "\n",
        "\n",
        "num_qubits = 2 # num_qubits should be an integer > 1\n",
        "\n",
        "print(cudaq.draw(nested_quantum_program,num_qubits))\n",
        "\n"
      ]
    },
    {
      "cell_type": "markdown",
      "id": "cda0fafa",
      "metadata": {
        "id": "cda0fafa"
      },
      "source": [
        "**Exercise:** Edit the `##FIX_ME##` portion of the code block below that uses the `get_state.amplitudes` to verify that the `nested_quantum_program` generates the desired state $\\ket{\\psi} = -\\frac{1}{\\sqrt{2}}\\ket{10}+\\frac{1}{\\sqrt{2}}\\ket{11}$ when `num_qubits` is set to $2$.  "
      ]
    },
    {
      "cell_type": "code",
      "execution_count": null,
      "id": "ccd5077c",
      "metadata": {
        "id": "ccd5077c",
        "outputId": "fe6f4056-4fb5-4494-8e3d-2e83120e6ea6",
        "colab": {
          "base_uri": "https://localhost:8080/"
        }
      },
      "outputs": [
        {
          "output_type": "stream",
          "name": "stdout",
          "text": [
            "|Psi>= 0j |10> + 0j |11>\n"
          ]
        }
      ],
      "source": [
        "# EXERCISE 1\n",
        "num_qubits = 2\n",
        "\n",
        "amplitudes = cudaq.get_state(nested_quantum_program, num_qubits)\n",
        "print('|Psi>= {} |10> + {} |11>'.format(np.round(amplitudes[0],precision), np.round(amplitudes[1],precision)))"
      ]
    },
    {
      "cell_type": "markdown",
      "id": "1dd43f05",
      "metadata": {
        "id": "1dd43f05"
      },
      "source": [
        "Now let's use the `sample` command to compare the two quantum programs. Notice the difference between the arguments in the `sample` command applied to the kernel `all_in_one` versus the\n",
        "`sample` command applied to the kernel `nested_quantum_program` which takes as an argument `num_qubits`."
      ]
    },
    {
      "cell_type": "code",
      "execution_count": null,
      "id": "0d48ea28",
      "metadata": {
        "id": "0d48ea28",
        "outputId": "707d51c7-c02d-45ae-b971-1bf20f6db2f9",
        "colab": {
          "base_uri": "https://localhost:8080/"
        }
      },
      "outputs": [
        {
          "output_type": "stream",
          "name": "stdout",
          "text": [
            "All-in-one sampling results: { 10:441 11:559 }\n",
            "\n",
            "Nested results: { 10:513 11:487 }\n",
            "\n"
          ]
        }
      ],
      "source": [
        "# Compare the quasi-probability distributions of each kernel upon sampling\n",
        "shots = 1000\n",
        "\n",
        "# Sample the kernels\n",
        "counts_all_in_one = cudaq.sample(all_in_one, shots_count=shots)\n",
        "counts_nested = cudaq.sample(nested_quantum_program, num_qubits, shots_count=shots)\n",
        "\n",
        "\n",
        "# Print\n",
        "print('All-in-one sampling results:', counts_all_in_one)\n",
        "print('Nested results:', counts_nested)"
      ]
    },
    {
      "cell_type": "markdown",
      "id": "afcb9f4b",
      "metadata": {
        "id": "afcb9f4b"
      },
      "source": [
        "> **Quick Tip:**\n",
        "The `sample` command runs the kernel and takes a measurement `shots_count`-many times. The result of each kernel execution and measurement is a classical bitstring with the $i^{th}$ bit representing the measurement of the $i^{th}$ qubit. The result of the `sample` command is a `SampleResult` dictionary of the distribution of the bitstrings.  To create a more familiar `dict` Python type from your variable `myresult` of type `SampleResult`, use `asDict = {k:v for k,v in myresult.items()}`."
      ]
    },
    {
      "cell_type": "markdown",
      "id": "20414fab",
      "metadata": {
        "id": "20414fab"
      },
      "source": [
        "\n",
        "Before going on, let's interpret the output of the sample command.\n",
        "Based on our prediction the output `{ 11:481 10:519 }` indicates that the first digit in the bitstrings `11` and `10` corresponds to qubit $q_0$, as it is `1` $100\\%$ of the time, and the second digit corresponds to qubit $q_1$, which gets measured about half the time as a `0` and the other half of the time as a `1`.  \n",
        "\n"
      ]
    },
    {
      "cell_type": "markdown",
      "id": "7e776dad",
      "metadata": {
        "id": "7e776dad"
      },
      "source": [
        "> **CUDA-Q Quick Tip:** The code blocks in this section demonstrate the ability for kernels to accept variables and to call one another.  It'll be useful to note:\n",
        "\n",
        "> * CUDA-Q kernels can only accept variables of certain types.  In particular, you can pass an individual qubit (`cudaq:qubit`), a list of qubits (`cudaq:qview`), integers (`int`), floats (`float`), complex values (`complex`), and lists of integers (`list[int]`),floats (`list[float]`), and complex values (`list[complex]`).  The full list of allowable types can be found [here](https://nvidia.github.io/cuda-quantum/latest/specification/cudaq/kernels.html).\n",
        "> * When sampling a kernel that accepts variables, the values for these variables, should appear in the `sample` function as a list following the kernel name, as seen in the example above where our kernel `nested_quantum_kernel` accepted an integer value `num_qubits`: `cudaq.sample(nested_quantum_program, num_qubits, shots_count=shots)`"
      ]
    },
    {
      "cell_type": "markdown",
      "id": "d5813f8c",
      "metadata": {
        "id": "d5813f8c"
      },
      "source": [
        "**Exercise 2:**\n",
        "Write a quantum program, using subkernels, to initialize three qubits in the zero state and place each qubit in the state $\\ket{+}$ if it has even index and qubits with odd index should be placed in the $\\ket{-}$ state (i.e., place $q_0$ and $q_2$ in the plus state and $q_1$ in the minus state.)  Use the `get_state` command to verify that your quantum program generates the desired quantum state. Print out the statevector to confirm. As a bonus, try making your program generic enough that it would work for any number of qubits.\n",
        "\n",
        "For example, the state of a 3 qubit system prior to measurement should be:\n",
        "\n",
        "\\begin{aligned}\\ket{\\psi} &= \\ket{+-+} \\\\ &= (\\frac{1}{\\sqrt{2}}(\\ket{0}+\\ket{1}))\\otimes(\\frac{1}{\\sqrt{2}}(\\ket{0}-\\ket{1}))\\otimes(\\frac{1}{\\sqrt{2}}(\\ket{0}+\\ket{1}) )\\\\ &= \\frac{1}{\\sqrt{8}}(\\ket{000}+\\ket{100}-\\ket{010}-\\ket{110}+\\ket{101}+\\ket{001}-\\ket{011}-\\ket{111}).\\end{aligned}\n",
        "\n",
        "The $\\otimes$ notation above represents a tensor product. For now, you can treat this as a multiplication that satisfies standard multiplication properties such as transitivity and associativity. We will not be using this notation beyond this example. If you'd like a formal introduction to tensor products, check out [section 4.2.1 of this resource](https://www.thomaswong.net/introduction-to-classical-and-quantum-computing-1e4p.pdf).\n",
        "\n",
        "> **CUDA-Q Quick Tip:** Inside a `cudaq.kernel` you can use python commands like `for` loops and `if` statements.  \n"
      ]
    },
    {
      "cell_type": "code",
      "execution_count": null,
      "id": "d1402fe7",
      "metadata": {
        "id": "d1402fe7",
        "colab": {
          "base_uri": "https://localhost:8080/"
        },
        "outputId": "f4965e57-95ef-41c4-847f-2c7b0edaec37"
      },
      "outputs": [
        {
          "output_type": "stream",
          "name": "stdout",
          "text": [
            "     ╭───╮     \n",
            "q0 : ┤ h ├─────\n",
            "     ├───┤╭───╮\n",
            "q1 : ┤ x ├┤ h ├\n",
            "     ├───┤╰───╯\n",
            "q2 : ┤ h ├─────\n",
            "     ╰───╯     \n",
            "\n",
            "Statevector array of coefficients: [ 0.3536+0.j  0.3536+0.j -0.3536+0.j -0.3536+0.j  0.3536+0.j  0.3536+0.j\n",
            " -0.3536+0.j -0.3536+0.j]\n"
          ]
        }
      ],
      "source": [
        "# EXERCISE 2\n",
        "\n",
        "num_qubits = 3\n",
        "shots = 1000\n",
        "\n",
        "@cudaq.kernel\n",
        "def alternating_signs(qubit_count: int):\n",
        "    quibits = cudaq.qvector(qubit_count)\n",
        "    curr = 0\n",
        "    while curr < qubit_count:\n",
        "      if curr % 2 == 0:\n",
        "        h(quibits[curr])\n",
        "        curr+=1\n",
        "      else:\n",
        "        x(quibits[curr])\n",
        "        h(quibits[curr])\n",
        "        curr+=1\n",
        "\n",
        "\n",
        "# Draw the circuit\n",
        "print(cudaq.draw(alternating_signs,num_qubits))\n",
        "\n",
        "# Verify state\n",
        "# Compute the state of the system prior to measurement\n",
        "state = cudaq.get_state(alternating_signs, num_qubits)\n",
        "\n",
        "# Print\n",
        "precision = 4\n",
        "print('Statevector array of coefficients:', np.round(np.array(state), precision))"
      ]
    },
    {
      "cell_type": "markdown",
      "id": "3f7ca965",
      "metadata": {
        "id": "3f7ca965"
      },
      "source": [
        "#### 2.1.1.3 Phase (optional)\n",
        "\n",
        "Phase is a characteristic of quantum states that we have not yet discussed. Estimating the phase of a given quantum state is an important step in many quantum algorithms including Shor's algorithm.  Additionally, phase helps explain the phenomena of **interference** which is key in algorithms such as Grover's.    \n",
        "\n",
        "Every state has a phase factor.  The **phase factor** of a state can be deduced from the term $e^{i\\varphi}$ in the standard representation of a quantum state: $$\n",
        "\\ket{\\psi} = \\cos(\\frac{\\theta}{2})\\ket{0}+\\sin(\\frac{\\theta}{2})e^{i\\varphi}\\ket{1}. $$\n",
        "\n",
        "We are often interested when two states have different phases.  This can happen in one of two ways: differing by a global phase or by a relative phase.  We've seen examples of both of these already in Lab 1 and in the previous examples in this lab.  \n",
        "\n",
        "Let's take a deeper look at qubit $q_1$ in the `nested_quantum_program` example from the previous section.  We can follow the state of $q_1$ as it changes throughout the kernel execution. We begin in the state $\\ket{0}$ which is flipped to $\\ket{1}$. Then, an application of the $H$ gate takes us to $\\ket{-} = \\frac{1}{\\sqrt{2}}\\ket{0}-\\frac{1}{\\sqrt{2}}\\ket{1}$.  This is followed by an application of the bit flip operator $X=\\begin{pmatrix}0 & 1 \\\\ 1 & 0\\end{pmatrix}$.  Carrying out this matrix multiplication we get that the state of $q_1$ prior to the measurement is:\n",
        "$$ X\\ket{-}=\\begin{pmatrix}0 & 1 \\\\ 1 & 0\\end{pmatrix}\\begin{pmatrix} \\frac{1}{\\sqrt{2}} \\\\ -\\frac{1}{\\sqrt{2}}\\end{pmatrix}\n",
        "= \\begin{pmatrix} -\\frac{1}{\\sqrt{2}} \\\\ \\frac{1}{\\sqrt{2}}\\end{pmatrix} = -\\ket{-}.\n",
        "$$\n",
        "\n",
        "When we measure $ -\\ket{-}$ we get a similar quasi-probability distribution that we would get if we measured  $\\ket{-}$.  We saw this behavior in Lab 1, where $\\ket{+}$ and $\\ket{-}$ had indistinguishable quasi-probability distributions upon measurement with `mz`.  However, if we measured the states $\\ket{+}$ and $\\ket{-}$ with `mx` we could distinguish the two states through their quasi-probability distributions.  Unlike in Lab 1, there is no measurement that we can apply to $\\ket{-}$ and $-\\ket{-}$ to distinguish them.\n",
        "\n",
        "The state $\\ket{-}$ and $-\\ket{-}$ only differ by a scalar multiple of $-1$.  When states only differ by a factor of $-1$, they are said to differ by a **global phase**.  And these states cannot be distinguished from one another through any measurements, so they are often treated as being equivalent, or interchangeable.\n",
        "\n",
        "This is in contrast to the states $$\\ket{+} =  \\frac{1}{\\sqrt{2}}\\ket{0}+\\frac{1}{\\sqrt{2}}\\ket{1}=\\frac{1}{\\sqrt{2}}\\ket{0}+e^{i*0}\\frac{1}{\\sqrt{2}}\\ket{1}$$ and $$\\ket{-}=  \\frac{1}{\\sqrt{2}}\\ket{0}-\\frac{1}{\\sqrt{2}}\\ket{1}=\\frac{1}{\\sqrt{2}}\\ket{0}+e^{i\\pi}\\frac{1}{\\sqrt{2}}\\ket{1},$$ which have equal amplitudes but differ by a **relative phase**, in this case $\\pi$.  \n",
        "\n",
        "In general the **relative phase** difference between two states\n",
        "$$\n",
        "\\ket{\\psi_1} = \\cos(\\frac{\\theta}{2})\\ket{0}+\\sin(\\frac{\\theta}{2})e^{i\\varphi_1}\\ket{1} $$\n",
        "and  \n",
        "$$\n",
        "\\ket{\\psi_2} = \\cos(\\frac{\\theta}{2})\\ket{0}+\\sin(\\frac{\\theta}{2})e^{i\\varphi_2}\\ket{1} $$\n",
        "is defined to as $\\varphi := |\\varphi_1-\\varphi_2|$\n",
        "\n",
        "**Question:** What is the relative phase difference between $\\ket{+}$ and $\\ket{i}$?\n",
        "\n"
      ]
    },
    {
      "cell_type": "markdown",
      "id": "04ea90fb",
      "metadata": {
        "id": "04ea90fb"
      },
      "source": [
        "### 2.1.2 Write a \"Hello, Entangled World!\" program"
      ]
    },
    {
      "cell_type": "markdown",
      "id": "5b1f325d",
      "metadata": {
        "id": "5b1f325d"
      },
      "source": [
        "So far, all of the quantum operations (e.g. `x`, `h`) that we programmed acted only on an individual qubit.  In this section, we'll write a program using multi-qubit gates.  Let's start with the example of the controlled-not gate, often abbreviated the `CNOT` gate. This is a gate that operates on 2 or more qubits. One of the qubits is considered the \"target\", and the remaining qubits are the \"control\".  For instance `CNOT([q0,q1],q2)` would represent a gate with control qubits in the list `[q0,q1]` and target qubit `q2`.  \n",
        "\n",
        "In a circuit diagram we depict the `CNOT` gate as a line connecting the control and target qubits with a $\\bigoplus$ located at the target qubit and a solid circle on control qubits. For instance, in the circuit diagram below, we see a `CNOT(q0, q1)` and a `CNOT([q1,q2],q0)` gate.\n",
        "\n",
        "<img src=\"https://raw.githubusercontent.com/NVIDIA/cuda-q-academic/refs/heads/main/images/cnots.png\" alt=\"quantum circuit diagram with various cnot gates\" width=\"200\"/>"
      ]
    },
    {
      "cell_type": "markdown",
      "id": "9b7514a0",
      "metadata": {
        "id": "9b7514a0"
      },
      "source": [
        "The rough idea is that if the \"control\" qubits are all in the state $\\ket{1}$ then an application of the `CNOT` gate will apply a bitflip (i.e. an `x` gate) to the target qubit.  If on the other hand, at least one of the \"control\" qubits is in the $\\ket{0}$ state the `CNOT` gate has no effect.\n",
        "\n",
        "To illustrate this, let's code up a few examples.\n",
        "\n",
        "> **Quick Tip:**\n",
        "The syntax for the CNOT gate is `x.ctrl(control_qubit, target_qubit)` if we have only one control qubit.  When we have multiple control qubits, we send them as a list to the `x.ctrl` function: `x.ctrl(control_qubits_list, target_qubit)`."
      ]
    },
    {
      "cell_type": "code",
      "execution_count": 2,
      "id": "d57e1bd4",
      "metadata": {
        "id": "d57e1bd4",
        "outputId": "730a2dd3-c3de-48f9-e409-fe58eee56105",
        "colab": {
          "base_uri": "https://localhost:8080/"
        }
      },
      "outputs": [
        {
          "output_type": "stream",
          "name": "stdout",
          "text": [
            "In this example CNOT is applied with the control qubit q0 and the target q1.\n",
            "CNOT applied to the state |00> results in |00>\n",
            "CNOT applied to the state |01> results in |01>\n",
            "CNOT applied to the state |10> results in |11>\n",
            "CNOT applied to the state |11> results in |10>\n"
          ]
        }
      ],
      "source": [
        "# CNOT applied to the states |00>, |01>, |10>, |11>\n",
        "#If the first is on, the second gets CNOT gated\n",
        "print('In this example CNOT is applied with the control qubit q0 and the target q1.')\n",
        "\n",
        "@cudaq.kernel\n",
        "def apply_cnot(control: cudaq.qubit, target: cudaq.qubit):\n",
        "    \"\"\"Apply an CNOT gate to the control and target qubits\"\"\"\n",
        "    x.ctrl(control, target)\n",
        "\n",
        "@cudaq.kernel\n",
        "def initialize(qubits: cudaq.qview, state: list[int]):\n",
        "    \"\"\"Kernel to initialize the state indicated by the given list\n",
        "    0: |0>, 1: |1>\"\"\"\n",
        "    for idx in range(len(state)):\n",
        "        if state[idx] == 1:\n",
        "            x(qubits[idx])\n",
        "\n",
        "@cudaq.kernel\n",
        "def CNOT_example(state: list[int]):\n",
        "    \"\"\"Apply CNOT to the state given by the state numbers\"\"\"\n",
        "    qubits = cudaq.qvector(len(state))\n",
        "    # Initialize state\n",
        "    initialize(qubits, state)\n",
        "    # Apply CNOT to the first two bits\n",
        "    if len(state) > 1:\n",
        "        apply_cnot(qubits[0], qubits[1])\n",
        "\n",
        "# Test computational basis states\n",
        "for i in range(4):\n",
        "    bits = format(i,'b')\n",
        "    bit_list = [int(bit) for bit in bits.zfill(2)]\n",
        "    result = cudaq.sample(CNOT_example, bit_list).most_probable()\n",
        "    print(f'CNOT applied to the state |{bits.zfill(2)}> results in |{result}>')\n",
        "\n"
      ]
    },
    {
      "cell_type": "markdown",
      "id": "085ed1c1",
      "metadata": {
        "id": "085ed1c1"
      },
      "source": [
        "While the previous examples showed CNOT operations on basis states (|0⟩ and |1⟩), the interactive tool below lets you explore more interesting quantum behaviors. Try selecting superposition states (|+⟩ or |-⟩) for either or both qubits to see how the CNOT gate functions. You'll discover some surprising quantum behaviors that have no classical counterpart!"
      ]
    },
    {
      "cell_type": "code",
      "execution_count": null,
      "id": "ac36cbdd",
      "metadata": {
        "id": "ac36cbdd"
      },
      "outputs": [],
      "source": [
        "# Exceute this cell to generate an interactive visualization of the CNOT gate\n",
        "import sys\n",
        "sys.path.append('interactive_widget')\n",
        "from CNOT_visualization import create_CNOT_widget\n",
        "\n",
        "# Create and display a new widget\n",
        "widget = create_CNOT_widget()\n",
        "display(widget)"
      ]
    },
    {
      "cell_type": "markdown",
      "id": "c21faa52",
      "metadata": {
        "id": "c21faa52"
      },
      "source": [
        "\n",
        "**Exercise 3 Part a:** Edit the code block below to see the effect of the gate sequence in the diagram below on the qubits if $q_0$ was initialized as $\\ket{+}$ and $q_1$ was initialized as $\\ket{1}$\n",
        "\n",
        "<img src=\"https://raw.githubusercontent.com/NVIDIA/cuda-q-academic/main/images/exercise3a.png\" alt=\"image of a circuit with 3 alternating cnots and q_0 initialized as |+> and q_1 initialized as |1>\" width=\"200\"/>"
      ]
    },
    {
      "cell_type": "code",
      "execution_count": 2,
      "id": "2e30e9f6",
      "metadata": {
        "id": "2e30e9f6",
        "colab": {
          "base_uri": "https://localhost:8080/"
        },
        "outputId": "f70b4856-6098-40fd-aab6-dc54c0a252ed"
      },
      "outputs": [
        {
          "output_type": "stream",
          "name": "stdout",
          "text": [
            "The distribution of states after sampling is: { 10:513 11:487 }\n",
            "\n"
          ]
        }
      ],
      "source": [
        "\n",
        "# EXERCISE 3 Part a\n",
        "@cudaq.kernel\n",
        "def alternating_cnots(qubit0: cudaq.qubit, qubit1: cudaq.qubit):\n",
        "    \"\"\"Apply a sequence of 3 CNOTs with alternating controls and targets on the 2 qubits given as arguments\"\"\"\n",
        "    # We will see later that it doesn't matter which qubit you start out with as the first control, as long as\n",
        "    # you alternate the control and target qubits with each of the 3 applications of the cnot gate\n",
        "\n",
        "    # Edit code below this line\n",
        "    x.ctrl(qubit0, qubit1) #1st CNOT\n",
        "    x.ctrl(qubit1, qubit0) #2nd CNOT\n",
        "    x.ctrl(qubit0, qubit1) #3rd CNOT\n",
        "    # Edit code above this line\n",
        "\n",
        "\n",
        "@cudaq.kernel\n",
        "def three_alternating_cnots():\n",
        "    \"\"\"Kernel for the circuit drawn above\"\"\"\n",
        "\n",
        "    # Allocate qubits\n",
        "    q = cudaq.qvector(2)\n",
        "\n",
        "    # Initialize qubits q0 and q1 in the plus and one states, respectively\n",
        "    h(q[0])\n",
        "    x(q[1])\n",
        "\n",
        "    # Apply alternating CNOTs\n",
        "    alternating_cnots(q[0], q[1])\n",
        "\n",
        "\n",
        "\n",
        "results = cudaq.sample(three_alternating_cnots)\n",
        "print('The distribution of states after sampling is: {}'.format(results))\n"
      ]
    },
    {
      "cell_type": "markdown",
      "id": "29703a34",
      "metadata": {
        "id": "29703a34"
      },
      "source": [
        "Did you notice that the `alternating_cnots` kernel had the effect of swapping the states of $q_0$ and $q_1$?  This is a useful operation, so there is a dedicated notation for it.  We refer to this gate sequence as the `SWAP` gate, and abbreviate the gate sequence as a line with 2 Xs on the endpoints connecting the qubits:  \n",
        "\n",
        "\n",
        "<img src=\"https://raw.githubusercontent.com/NVIDIA/cuda-q-academic/main/images/SWAP.png\" alt=\"image of a circuit with a swap gate and one of three alternating cnots\" width=\"200\"/>\n",
        "\n",
        "The CUDA-Q command for a SWAP gate applied to qubits $q_0$ and $q_1$ is `swap(q_0, q_1)`. Let's use CUDA-Q to check that the `swap` gate has the same effect on two qubits as the `alternating_cnots` kernel."
      ]
    },
    {
      "cell_type": "code",
      "execution_count": 3,
      "id": "9d769de2",
      "metadata": {
        "id": "9d769de2",
        "colab": {
          "base_uri": "https://localhost:8080/"
        },
        "outputId": "96ed7a38-5083-4524-8fbf-a3b2634a2c85"
      },
      "outputs": [
        {
          "output_type": "stream",
          "name": "stdout",
          "text": [
            "The distribution of states after sampling is: { 10:482 11:518 }\n",
            "\n"
          ]
        }
      ],
      "source": [
        "# Verify that the SWAP and alternating_cnots have the same effect on the state |+1>\n",
        "\n",
        "@cudaq.kernel\n",
        "def applying_swap():\n",
        "    \"\"\"Kernel for the circuit drawn above\"\"\"\n",
        "\n",
        "    # Allocate qubits\n",
        "    q = cudaq.qvector(2)\n",
        "\n",
        "    # Initialize qubits q0 and q1 in the plus and one states, respectively\n",
        "    h(q[0])\n",
        "    x(q[1])\n",
        "\n",
        "    # Apply alternating CNOTs\n",
        "    swap(q[0], q[1])\n",
        "\n",
        "results = cudaq.sample(three_alternating_cnots)\n",
        "print('The distribution of states after sampling is: {}'.format(results))"
      ]
    },
    {
      "cell_type": "markdown",
      "id": "4ba73892",
      "metadata": {
        "id": "4ba73892"
      },
      "source": [
        "Now, let's explore another example that will showcase one of the powerful computations achievable with quantum gates.\n",
        "\n",
        "**Exercise 3 Part b:** Edit the ##FIX_ME## phrase in the code block below to apply the `x.ctrl` gate to the state $\\ket{+0}$."
      ]
    },
    {
      "cell_type": "code",
      "execution_count": 4,
      "id": "9e97a7c5",
      "metadata": {
        "id": "9e97a7c5",
        "colab": {
          "base_uri": "https://localhost:8080/"
        },
        "outputId": "4df4574b-2c5d-4945-cbdf-e63d37e047a5"
      },
      "outputs": [
        {
          "output_type": "stream",
          "name": "stdout",
          "text": [
            "CNOT applied to the state |+0> results in the distribution of states: { 00:491 11:509 }\n",
            "\n"
          ]
        }
      ],
      "source": [
        "# EXERCISE 3 Part b\n",
        "\n",
        "@cudaq.kernel\n",
        "def apply_cnot(control: cudaq.qubit, target: cudaq.qubit):\n",
        "    \"\"\"Apply an CNOT gate to the control and target qubits\"\"\"\n",
        "    x.ctrl(control, target)\n",
        "\n",
        "@cudaq.kernel\n",
        "def initialize_plus_zero(qubits: cudaq.qview):\n",
        "    \"\"\"Kernel to initialize the state indicated by the given list of bits\"\"\"\n",
        "    # Place qubits[0] in the plus state\n",
        "    h(qubits[0])\n",
        "\n",
        "@cudaq.kernel\n",
        "def CNOT_exercise():\n",
        "    \"\"\"Apply CNOT to |+0> with control q0 and target q1\"\"\"\n",
        "    qubits =cudaq.qvector(2)\n",
        "    # Initialize state\n",
        "    initialize_plus_zero(qubits)\n",
        "    # Apply CNOT to the first two bits\n",
        "    apply_cnot(qubits[0], qubits[1])\n",
        "\n",
        "results = cudaq.sample(CNOT_exercise)\n",
        "print('CNOT applied to the state |+0> results in the distribution of states: {}'.format(results))\n"
      ]
    },
    {
      "cell_type": "markdown",
      "id": "aae902e7",
      "metadata": {
        "id": "aae902e7"
      },
      "source": [
        "To understand the output of the exercise above, let's use the ket notation.  First we should point out that one characteristic of quantum gates that we've not mentioned explicitly is linearity.  For example, if we have a gate $U$ applied to the state $\\ket{\\psi}=\\alpha\\ket{0}+\\beta\\ket{1}$, we can understand the action of $U$ on $\\ket{\\psi}$ by knowing how $U$ affects $\\ket{0}$ and $\\ket{1}$.  In particular, we can distribute $U$ across the terms of $\\ket{\\psi}$:\n",
        "$$ U\\ket{\\psi} = U(\\alpha\\ket{0}+\\beta\\ket{1}) =  U(\\alpha\\ket{0}) +  U(\\beta\\ket{1})=\\alpha U\\ket{0} + \\beta U\\ket{1}.$$\n",
        "This generalizes beyond one-qubit gates to multi-qubit gates.\n",
        "\n",
        "Therefore, when we apply the `CNOT` to $\\ket{+0} = \\frac{1}{\\sqrt{2}}\\ket{00}+ \\frac{1}{\\sqrt{2}}\\ket{10}$ we get\n",
        "\n",
        "$$CNOT\\ket{+0} = CNOT(\\frac{1}{\\sqrt{2}}\\ket{00}+ \\frac{1}{\\sqrt{2}}\\ket{10})=\\frac{1}{\\sqrt{2}}CNOT\\ket{00} + \\frac{1}{\\sqrt{2}}CNOT\\ket{10} = \\frac{1}{\\sqrt{2}}\\ket{00} +  \\frac{1}{\\sqrt{2}}\\ket{11}.$$"
      ]
    },
    {
      "cell_type": "markdown",
      "id": "b07b387e",
      "metadata": {
        "id": "b07b387e"
      },
      "source": [
        "### 2.1.3 Multi-qubit gates as matrices\n",
        "\n",
        "To understand why gate operations are linear, it helps to represent a multi-qubit gate as a matrix, just as we have done in Lab 1 for single qubit gates.\n",
        "For example the matrix for the CNOT gate using the convention of CUDA-Q ordering is:\n",
        "$$CNOT = \\begin{pmatrix} 1 & 0 & 0 & 0 \\\\ 0 & 1 & 0 & 0 \\\\ 0 & 0 & 0 & 1 \\\\ 0 & 0 & 1 & 0 \\end{pmatrix}.\n",
        "$$\n",
        "\n",
        "Using the fact that  $\\ket{+0} = \\frac{1}{\\sqrt{2}}\\ket{00}+ \\frac{1}{\\sqrt{2}}\\ket{10}$, we can verify our work from the previous section:\n",
        "\n",
        "$$ CNOT\\ket{+0} = \\begin{pmatrix} 1 & 0 & 0 & 0 \\\\ 0 & 1 & 0 & 0 \\\\ 0 & 0 & 0 & 1 \\\\ 0 & 0 & 1 & 0 \\end{pmatrix}(\\frac{1}{\\sqrt{2}}\\ket{00}+ \\frac{1}{\\sqrt{2}}\\ket{10})\n",
        "=  \\begin{pmatrix} 1 & 0 & 0 & 0 \\\\ 0 & 1 & 0 & 0 \\\\ 0 & 0 & 0 & 1 \\\\ 0 & 0 & 1 & 0 \\end{pmatrix}\n",
        "\\begin{pmatrix} \\frac{1}{\\sqrt{2}}  \\\\ 0 \\\\ \\frac{1}{\\sqrt{2}} \\\\ 0\\end{pmatrix} =\n",
        "\\begin{pmatrix} \\frac{1}{\\sqrt{2}} \\\\ 0 \\\\ 0 \\\\ \\frac{1}{\\sqrt{2}}  \\end{pmatrix} =\n",
        " \\frac{1}{\\sqrt{2}}\\ket{00} +  \\frac{1}{\\sqrt{2}}\\ket{11}\n",
        "$$\n",
        "\n",
        "The state $\\frac{1}{\\sqrt{2}}\\ket{00} +  \\frac{1}{\\sqrt{2}}\\ket{11}$ is an example of entanglement.  Along with superposition, this property helps to distinguish quantum algorithms from classical.  Let's take a look at this property next.\n",
        "\n",
        "> **FAQ:** If quantum states can be represented as vectors, and quantum gates can be realized through matrix operations, then why do we need quantum computers if we can theoretically simulate any quantum circuit through matrix multiplication classically?\n",
        "\n",
        "> **Answer:**  One thing to note is that as the number of qubits increases, the number of possible states increases exponentially and the size of the matrix representing the multi-qubit gate also increases exponentially.  For instance, a 3-qubit system (like the Exercise 4 in the next section) can be in one of $2^3 = 8$ states, and the size of the matrix representing a 3-qubit gate is $8\\times 8$.  This suggests that straightforward attempts at using matrix multiplication to simulate quantum computation on CPUs fail for circuits with only 30 or so qubits.  With CUDA-Q's platform and GPU-accelerated built-in simulators, it is possible to simulate larger systems. That said, there may one day be a fault tolerant quantum computer that can carry out computations too big for even the largest classical supercomputers.\n",
        "\n",
        "\n"
      ]
    },
    {
      "cell_type": "markdown",
      "id": "51cf91f7",
      "metadata": {
        "id": "51cf91f7"
      },
      "source": [
        "### 2.1.4 Entanglement\n",
        "\n",
        "Entanglement of two (or more) qubits is akin to the concept of dependence in linear algebra.  That is to say that two qubits are entangled if the state of one of the qubits depends on the other.  Formally the definition of entanglement relies on tensor products, which are beyond the scope of this Quick Start series of notebooks.  You can read more about tensor products and the precise definition of entanglement [here](http://mermin.lassp.cornell.edu/qcomp/CS483.html) or [here](https://qubit.guide).  For now, we'll illustrate entanglement through the example of the 2-qubit state\n",
        "$$ \\ket{\\psi} =\\frac{1}{\\sqrt{2}}\\ket{00} +  \\frac{1}{\\sqrt{2}}\\ket{11}.$$\n",
        "\n",
        "The state $\\ket{\\psi}$ has equal probability of being measured in the state $\\ket{00}$ or $\\ket{11}$.  Let's look at what happens if we measure the first qubit.\n",
        "\n",
        "* If our system of two qubits is in the state $\\ket{\\psi}$ and we measure qubit 0 to be $0$, then the state of the system collapses to $\\ket{00}$.  In this case, without taking a measurement on qubit 1, we already know its state (it's $\\ket{0}$).  \n",
        "\n",
        "<img src=\"https://raw.githubusercontent.com/NVIDIA/cuda-q-academic/main/images/bell0.png\" alt=\"image of a circuit for the Bell State with the first qubit measured to be a 0\" width=\"200\"/>\n",
        "\n",
        "* Similarly if the state of our system is $\\ket{\\psi}$ and qubit 0 is measured to be 1, then  the state of the system collapses to $\\ket{11}$.  Although prior to any measurement on qubit 0, qubit 1 had a $50\\%$ probability of being in state $\\ket{0}$ or $\\ket{1}$, after measuring qubit 0 to be 1, we know that qubit 1 must be in the state $\\ket{1}$.\n",
        "\n",
        "<img src=\"https://raw.githubusercontent.com/NVIDIA/cuda-q-academic/main/images/bell1.png\" alt=\"image of a circuit for the Bell State with the first qubit measured to be a 1\" width=\"200\"/>\n",
        "\n",
        "\n",
        "So we see that even though prior to measurement, both qubits 0 and 1 have equal probabilities of being measured a 0 or 1, once we measure one of these qubits, the outcome of the other qubit has been determined and depends on the state of the qubit that was measured.  In other words,  qubit 0 and qubit 1 are **entangled**.\n",
        "\n"
      ]
    },
    {
      "cell_type": "markdown",
      "id": "f51d5b63",
      "metadata": {
        "id": "f51d5b63"
      },
      "source": [
        "**EXERCISE 4:**\n",
        "Edit the code block below to create a quantum program with 3 qubits to:\n",
        "* Initialize the state  $\\ket{\\psi} = \\ket{+-+} = \\frac{1}{\\sqrt{8}}(\\ket{000}+\\ket{100}-\\ket{010}-\\ket{110}+\\ket{101}+\\ket{001}-\\ket{011}-\\ket{111})$ by editing the ##FIX_ME##\n",
        "* Apply a `x.ctrl` gate with control qubit $q_0$ and target $q_1$.  Then apply a Hadamard gate to $q_1$.\n",
        "* Sample the result\n"
      ]
    },
    {
      "cell_type": "code",
      "execution_count": 2,
      "id": "84679555",
      "metadata": {
        "id": "84679555",
        "colab": {
          "base_uri": "https://localhost:8080/"
        },
        "outputId": "856e252b-48ec-46d4-baef-de864f943bbb"
      },
      "outputs": [
        {
          "output_type": "stream",
          "name": "stdout",
          "text": [
            "{ 010:259 011:248 110:265 111:228 }\n",
            "\n"
          ]
        }
      ],
      "source": [
        "# EXERCISE 4\n",
        "num_qubits = 3\n",
        "\n",
        "@cudaq.kernel\n",
        "def initial_state(qubits : cudaq.qview):\n",
        "    for index in range(len(qubits)):\n",
        "        if index % 2 !=0:\n",
        "            x(qubits[index])\n",
        "    h(qubits)\n",
        "\n",
        "@cudaq.kernel\n",
        "def interference(qubit_count: int):\n",
        "    qvector = cudaq.qvector(qubit_count)\n",
        "\n",
        "    initial_state(qvector) # Initialize the state\n",
        "\n",
        "    # Apply x.ctrl with control q_0 and target q_1. Then apply a Hadamard gate to q_1.\n",
        "    # Edit the code below this line\n",
        "    x.ctrl(qvector[0], qvector[1])\n",
        "    h(qvector[1])\n",
        "\n",
        "    # Edit the code above this line\n",
        "\n",
        "results = cudaq.sample(interference, num_qubits, shots_count = 1000)\n",
        "print(results)"
      ]
    },
    {
      "cell_type": "markdown",
      "id": "0193825a",
      "metadata": {
        "id": "0193825a"
      },
      "source": [
        "**Question**: What do you notice about the probability amplitudes in Exercise 4?  Pay specific attention to the probability amplitude for\n",
        "$\\ket{110}$, $\\ket{011}$, $\\ket{111}$, and $\\ket{010}$ compared to those of of the other basis states."
      ]
    },
    {
      "cell_type": "markdown",
      "id": "6af24a5e",
      "metadata": {
        "id": "6af24a5e"
      },
      "source": [
        "The changing of the probability amplitudes in this exercise is an example of interference, which we'll discuss next."
      ]
    },
    {
      "cell_type": "markdown",
      "id": "82f3576d",
      "metadata": {
        "id": "82f3576d"
      },
      "source": [
        "### 2.1.5 Interference\n",
        "\n",
        "In a quantum program, we apply gates to change quantum state from one state to another.  In effect, what we're doing is changing the probability amplitudes associated with each of the basis states.  This process is called **interference**.  Interference is central in almost every quantum algorithm.\n",
        "\n",
        "We can have both constructive and destructive interference.  Like the classical interference of waves from raindrops on the surface of a puddle, constructive interference occurs when the probability amplitude of basis state is increased, and destructive interference occurs when the probability of a basis state decreases due to the action of quantum gates.  The previous example demonstrates both constructive and deconstructive interference. The circuit is initialized in a state having equal magnitude probability amplitudes, but after applying the CNOT gate and Hadamard gate, the probabilities of measuring $\\ket{110}$, $\\ket{011}$, $\\ket{111}$, and $\\ket{010}$ have each been amplified, while the probabiliy amplitudes associated with the other basis states have been reduced to $0$.\n",
        "\n"
      ]
    },
    {
      "cell_type": "markdown",
      "id": "7e50c823",
      "metadata": {
        "id": "7e50c823"
      },
      "source": [
        "## 2.3 Other multi-qubit gates"
      ]
    },
    {
      "cell_type": "markdown",
      "id": "cd971a71",
      "metadata": {
        "id": "cd971a71"
      },
      "source": [
        "There are many more quantum gates than the handful that we've explicitly used so far.  In the previous lab, we mentioned that any rotation of the Bloch sphere corresponds to a quantum gate on one qubit. So in theory, there are an infinite number of possible quantum gates: one for each of the possible rotations of the sphere.  In this section, we'll first detail what these rotations gates look like both as matrices and as CUDA-Q operations. Then  we'll use these rotations gates to define a larger class of multi-qubit controlled gates.\n",
        "\n",
        "\n",
        "### 2.3.2 Revisiting single-qubit rotation gates\n",
        "\n",
        "We've already seen the `x`-gate that rotates a state around the x-axis of the Bloch sphere by 180 degrees and the Hadamard gate which rotates the Bloch sphere 180 degrees about a different axis causing $\\ket{0}$ to move to $\\ket{+}$ and $\\ket{1}$ to rotate to $\\ket{-}$, and vice versa.  But how do we implement gates for other angles of rotation, or different axis of rotation?  One easy answer is to use some of the gate operations built into CUDA-Q.  These include the `y`-gate for 180 degree rotation about the $y$-axis and the `z`-gate for 180 degree rotation about the $z$ axis.  The `t` and `s` gates correspond to other fixed angle rotations about the $z$ axis.  \n",
        "\n",
        "**EXERCISE 5:** Experiment with applying the `t` and `s` gates to various states in the code block below to deduce the rotation angle for the `t` and `s` gates and to predict the relationship between the `t` and `s` gates."
      ]
    },
    {
      "cell_type": "code",
      "execution_count": null,
      "id": "8aa8cb2d",
      "metadata": {
        "id": "8aa8cb2d"
      },
      "outputs": [],
      "source": [
        "# EXERCISE 5\n",
        "# Run this cell to generate an interactive visualization of the T and S gates\n",
        "# Change the initial state of the qubit to see how the T and S gates affect the state\n",
        "\n",
        "import sys\n",
        "sys.path.append('interactive_widget')\n",
        "from t_and_s_gate import create_t_and_s_widget\n",
        "\n",
        "# Create and display a new widget\n",
        "widget = create_t_and_s_widget()\n",
        "display(widget)"
      ]
    },
    {
      "cell_type": "markdown",
      "id": "fb963ed1",
      "metadata": {
        "id": "fb963ed1"
      },
      "source": [
        "To access arbitrary angle rotations about the $x$, $y$, and $z$ axis of the Bloch sphere, we can use the `rx`, `ry`, and `rz` commands.\n",
        "\n",
        "In the code block, we plot the effect of rx on the state $\\ket{0}$ for a variety of angles.  You can see that when the angle is $\\pi$, the rotation gate `rx` is equivalent to the `x` gate.  Feel free to edit the code bloch to apply the `ry` or `rz` gates to various angles on different intial states.  "
      ]
    },
    {
      "cell_type": "code",
      "execution_count": 3,
      "id": "3829e094",
      "metadata": {
        "id": "3829e094",
        "colab": {
          "base_uri": "https://localhost:8080/",
          "height": 536
        },
        "outputId": "e22c6ff9-95b0-4964-eeef-a6d882b5c8d4"
      },
      "outputs": [
        {
          "output_type": "display_data",
          "data": {
            "text/plain": [
              "<Figure size 500x500 with 1 Axes>"
            ],
            "image/png": "[encoded data removed]"
          },
          "metadata": {}
        }
      ],
      "source": [
        "import qutip\n",
        "# set the number of angles to plot\n",
        "num_angles = 15\n",
        "\n",
        "@cudaq.kernel\n",
        "def rotate_x(angle : float):\n",
        "    qubit = cudaq.qubit()\n",
        "\n",
        "    # Apply the unitary transformation\n",
        "    # Rx(θ) = |  cos(θ/2)  -isin(θ/2) |\n",
        "    #         | -isin(θ/2)  cos(θ/2)  |\n",
        "    rx(angle, qubit)\n",
        "\n",
        "\n",
        "blochSphere = qutip.Bloch()\n",
        "for n in range(num_angles+1):\n",
        "    theta = np.pi*n/num_angles\n",
        "    sphere = cudaq.add_to_bloch_sphere(cudaq.get_state(rotate_x, theta), blochSphere)\n",
        "\n",
        "# Display the Bloch spheres side by side in 2 rows and 2 columns\n",
        "cudaq.show(blochSphere)\n",
        "\n",
        "\n"
      ]
    },
    {
      "cell_type": "markdown",
      "id": "5cb08844",
      "metadata": {
        "id": "5cb08844"
      },
      "source": [
        "### 2.3.3 Controlled gates\n",
        "\n",
        "Earlier we examined the CNOT gate (`x.ctrl`) which is a controlled-x gate.  That is, the `x` gate is applied conditionally on the state of one or more of the control qubits.  Similarly, we can create controlled gates for any of our single qubit gates using the `.ctrl` suffix.  For instance `t.ctrl` will apply a `t` gate conditionally on the the state of the control qubit.\n",
        "\n"
      ]
    },
    {
      "cell_type": "markdown",
      "id": "1650e028",
      "metadata": {
        "id": "1650e028"
      },
      "source": [
        "With just a few of these gates, we can carry out some interesting computations.  Let's check out one step of Shor's algorithm in the next section."
      ]
    },
    {
      "cell_type": "markdown",
      "id": "106c65ea",
      "metadata": {
        "id": "106c65ea"
      },
      "source": [
        "## 2.4 Application: modular arithmetic\n",
        "\n",
        "\n",
        "Shor's algorithm is a well-known example that has the potential to break RSA encryption, assuming it could be executed on a fault-tolerant quantum computer at a sufficiently large scale. While we won’t be implementing the full algorithm here (you can explore more details [here starting on page 341](https://www.thomaswong.net/introduction-to-classical-and-quantum-computing-1e4p.pdf), [Chapter 4 of these lecture notes](https://arxiv.org/pdf/2311.08445)  or [chapter 3 of Mermin's book here](http://mermin.lassp.cornell.edu/qcomp/CS483.html) and you can view the code for Shor's algorithm [here](https://nvidia.github.io/cuda-quantum/latest/applications/python/shors.html)), we will focus on one step of the algorithm: performing modular arithmetic. This will serve as a demonstration of the concepts we've covered so far and offer an opportunity to encode classical information (in this case, an integer) onto qubits.\n",
        "The circuit shown below, inspired by [this article](https://physlab.org/wp-content/uploads/2023/05/Shor_s_Algorithm_23100113_Fin.pdf), performs the operation of multiplying $5y$ modulo $21$, with the initial state representing various values of $y = 1, 4, 5, 16, 17, 20$.\n",
        "\n",
        "<img src=\"https://raw.githubusercontent.com/NVIDIA/cuda-q-academic/main/images/modular_circuit.png\" alt=\"circuit for computing 5y mod 21 for certain values of y\" width=\"200\"/>\n",
        "\n",
        " For instance, if we want to calculate $5 \\times 1 \\mod 21$, we would encode $y = 1$ by preparing the quantum state $\\ket{10000}$ through the application of an $X$ gate to qubit $q_0$:\n",
        "\n",
        "<img src=\"https://raw.githubusercontent.com/NVIDIA/cuda-q-academic/main/images/modular_circuit_y_equals_1.png\" alt=\"circuit for computing 5y mod 21 for certain values of y\" width=\"200\"/>\n",
        "\n"
      ]
    },
    {
      "cell_type": "markdown",
      "id": "0476beda",
      "metadata": {
        "id": "0476beda"
      },
      "source": [
        "**EXERCISE 6:** Edit the code below to carry out the instructions of the circuit diagrams above to compute $5*y\\mod{21}$ and verify that the outcome of the circuit is as expected.  For example, when the circuit is initialized as $y = 20$, we should expect to sample the binary representation of 16 (which is `00001`) since $5*20 = 100 \\equiv 16\\mod{21}$."
      ]
    },
    {
      "cell_type": "code",
      "execution_count": 35,
      "id": "10aa4dff",
      "metadata": {
        "id": "10aa4dff",
        "colab": {
          "base_uri": "https://localhost:8080/"
        },
        "outputId": "01e5ebf6-bda1-4bf9-9e39-04573d805899"
      },
      "outputs": [
        {
          "output_type": "stream",
          "name": "stdout",
          "text": [
            "Multiplying 20 by 5 mod 21 results in the bitstring 00001\n"
          ]
        }
      ],
      "source": [
        "# EXERCISE 6\n",
        "#Had a lot of trouble with modular_mult_5_21\n",
        "#\n",
        "\n",
        "import random\n",
        "\n",
        "@cudaq.kernel\n",
        "def modular_mult_5_21(qubits : cudaq.qvector):\n",
        "    \"\"\"\"Kernel based off of the circuit diagram in\n",
        "    https://physlab.org/wp-content/uploads/2023/05/Shor_s_Algorithm_23100113_Fin.pdf\n",
        "    Modifications were made to change the ordering of the qubits.\n",
        "    \"\"\"\n",
        "    # Edit code below this line\n",
        "    #Claud AI\n",
        "    x.ctrl(qubits[4], qubits[0])\n",
        "    x.ctrl(qubits[2], qubits[0])\n",
        "    x(qubits[4])\n",
        "    x(qubits[2])\n",
        "    x.ctrl(qubits[0], qubits[4])\n",
        "    x.ctrl(qubits[0], qubits[2])\n",
        "    # Edit code above this line\n",
        "\n",
        "@cudaq.kernel\n",
        "def encode_integer(qubits: cudaq.qvector, binary_rep: list[int]):\n",
        "    \"\"\"Kernel takes as input a list of qubits and the binary representation\n",
        "    of an integer as a list. The kernel adds X-gates to the qubits to encode\n",
        "    the binary list, placing an X gate on qubit i if there is a 1 in the ith location\n",
        "    on the binary_rep list\"\"\"\n",
        "    # Edit code below this line\n",
        "    for i in range(len(binary_rep)):\n",
        "      if binary_rep[i] == 1:\n",
        "        x(qubits[i])\n",
        "\n",
        "\n",
        "    # Edit code above this line\n",
        "\n",
        "\n",
        "def decimal_to_binary_list(number):\n",
        "    # Check if the input number is valid (non-negative integer)\n",
        "    if number < 0:\n",
        "        raise ValueError(\"Number must be a non-negative integer.\")\n",
        "\n",
        "    # Convert the number to binary using bin() function and strip the '0b' prefix\n",
        "    binary_string = bin(number)[2:]\n",
        "\n",
        "    # Convert the binary string to a list of integers (0s and 1s)\n",
        "    binary_list = [int(bit) for bit in binary_string]\n",
        "\n",
        "    return binary_list\n",
        "\n",
        "@cudaq.kernel\n",
        "def mult_y_by_5_mod21(binary_list: list[int]):\n",
        "\n",
        "    # Allocate qubits\n",
        "    qubits = cudaq.qvector(5)\n",
        "\n",
        "    # Initialize qubits in the state representing 1, 4, 5, 16, 17, or 20\n",
        "    encode_integer(qubits, binary_list)\n",
        "    # Apply the multiplication by 5 mod 21 kernel\n",
        "    modular_mult_5_21(qubits)\n",
        "\n",
        "values = [1,4,5,16, 17, 20]\n",
        "number = random.choice(values) # selects a number from the list values randomly\n",
        "# Convert number into a binary representation stored as a list of 0s and 1s\n",
        "binary_list = decimal_to_binary_list(number)\n",
        "\n",
        "results = cudaq.sample(mult_y_by_5_mod21, binary_list, shots_count = 200)\n",
        "print(\"Multiplying {} by 5 mod 21 results in the bitstring {}\".format(number,results.most_probable()))\n"
      ]
    },
    {
      "cell_type": "markdown",
      "id": "f16d5a19",
      "metadata": {
        "id": "f16d5a19"
      },
      "source": [
        "**Exercise 7:** Create a kernel that carries out modular exponentiation 5^x mod 21 using the `mult_y_by_5_mod21` of the previous exercise. Hint: $5^6 \\mod(21) = 1$.  \n"
      ]
    },
    {
      "cell_type": "code",
      "execution_count": 27,
      "id": "9f5f867b",
      "metadata": {
        "id": "9f5f867b",
        "colab": {
          "base_uri": "https://localhost:8080/"
        },
        "outputId": "ec26df7d-7cfa-49d2-fd4d-e839c43f7630"
      },
      "outputs": [
        {
          "output_type": "stream",
          "name": "stdout",
          "text": [
            "5^0 mod 21 in binary representation is 00001\n",
            "5^1 mod 21 in binary representation is 01101\n",
            "5^2 mod 21 in binary representation is 00100\n",
            "5^3 mod 21 in binary representation is 10101\n",
            "5^4 mod 21 in binary representation is 11000\n",
            "5^5 mod 21 in binary representation is 11101\n",
            "5^6 mod 21 in binary representation is 00101\n"
          ]
        }
      ],
      "source": [
        "# EXERCISE 7\n",
        "#Based on flawed solution of exercise 6\n",
        "\n",
        "@cudaq.kernel\n",
        "def modular_exp_kernel(exponent: int):\n",
        "    \"\"\"Kernel computes 5^x mod 21\n",
        "    Parameters:\n",
        "    -----------\n",
        "    exponent : int\n",
        "        the value x for the computation 5^x mod 21\n",
        "\n",
        "    Returns:\n",
        "    --------\n",
        "    binary_rep : string\n",
        "        binary representation for 5^x mod 21 as a string of 0s and 1s\n",
        "    \"\"\"\n",
        "    # Allocate and intialize qubits\n",
        "    qubits = cudaq.qvector(5)\n",
        "\n",
        "    # Edit code below this line\n",
        "\n",
        "    # Encode y = 1\n",
        "    encode_integer(qubits, [0, 0, 0, 0, 1])\n",
        "\n",
        "    # Multiply y = 1 by 5 exp times\n",
        "    for _ in range(exponent):\n",
        "        modular_mult_5_21(qubits)\n",
        "\n",
        "    # Edit code above this line\n",
        "\n",
        "\n",
        "def modular_exp(exponent: int):\n",
        "    sample_result = cudaq.sample(modular_exp_kernel, exponent, shots_count = 100).most_probable()\n",
        "    return sample_result\n",
        "\n",
        "for x in range(0,7):\n",
        "    result = modular_exp(x)\n",
        "\n",
        "    print(\"5^{} mod 21 in binary representation is {}\".format(x, result))"
      ]
    },
    {
      "cell_type": "markdown",
      "id": "6b6c9d4a",
      "metadata": {
        "id": "6b6c9d4a"
      },
      "source": [
        "## 2.5 Next\n",
        "\n",
        "While [Shor's algorithm for factoring numbers](https://nvidia.github.io/cuda-quantum/latest/applications/python/shors.html) is one of the most famous quantum computing algorithms, it is not considered a (Near-term Intermediate Scale Quantum) NISQ-era program since it requires more qubits, with less noise, than currently available.  There are, however, several NISQ-era programs that can be run on current quantum hardware and simulated with GPUs.  Many of these programs are based on variational algorithms, which we'll explore in the next lab."
      ]
    }
  ],
  "metadata": {
    "colab": {
      "provenance": [],
      "include_colab_link": true
    },
    "kernelspec": {
      "display_name": "Python 3",
      "language": "python",
      "name": "python3"
    },
    "language_info": {
      "codemirror_mode": {
        "name": "ipython",
        "version": 3
      },
      "file_extension": ".py",
      "mimetype": "text/x-python",
      "name": "python",
      "nbconvert_exporter": "python",
      "pygments_lexer": "ipython3",
      "version": "3.10.12"
    }
  },
  "nbformat": 4,
  "nbformat_minor": 5
}
