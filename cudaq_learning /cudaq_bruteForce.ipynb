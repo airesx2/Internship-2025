{
  "nbformat": 4,
  "nbformat_minor": 0,
  "metadata": {
    "colab": {
      "provenance": [],
      "authorship_tag": "ABX9TyPgpTMOu7ZpL3m+EQxdlZ7h",
      "include_colab_link": true
    },
    "kernelspec": {
      "name": "python3",
      "display_name": "Python 3"
    },
    "language_info": {
      "name": "python"
    }
  },
  "cells": [
    {
      "cell_type": "markdown",
      "metadata": {
        "id": "view-in-github",
        "colab_type": "text"
      },
      "source": [
        "<a href=\"https://colab.research.google.com/github/airesx2/Internship-2025/blob/main/cudaq_learning%20/cudaq_bruteForce.ipynb\" target=\"_parent\"><img src=\"https://colab.research.google.com/assets/colab-badge.svg\" alt=\"Open In Colab\"/></a>"
      ]
    },
    {
      "cell_type": "code",
      "execution_count": 1,
      "metadata": {
        "id": "GIeR6nGG-rsl",
        "colab": {
          "base_uri": "https://localhost:8080/"
        },
        "outputId": "d47b3ef6-d9fe-41a8-c157-b868a5f3f99f"
      },
      "outputs": [
        {
          "output_type": "stream",
          "name": "stdout",
          "text": [
            "Requirement already satisfied: cudaq in /usr/local/lib/python3.11/dist-packages (0.11.0)\n",
            "Requirement already satisfied: cuda-quantum-cu12==0.11.0 in /usr/local/lib/python3.11/dist-packages (from cudaq) (0.11.0)\n",
            "Requirement already satisfied: astpretty~=3.0 in /usr/local/lib/python3.11/dist-packages (from cuda-quantum-cu12==0.11.0->cudaq) (3.0.0)\n",
            "Requirement already satisfied: cuquantum-python-cu12>=25.03 in /usr/local/lib/python3.11/dist-packages (from cuda-quantum-cu12==0.11.0->cudaq) (25.3.0)\n",
            "Requirement already satisfied: numpy>=1.24 in /usr/local/lib/python3.11/dist-packages (from cuda-quantum-cu12==0.11.0->cudaq) (2.0.2)\n",
            "Requirement already satisfied: scipy>=1.10.1 in /usr/local/lib/python3.11/dist-packages (from cuda-quantum-cu12==0.11.0->cudaq) (1.15.3)\n",
            "Requirement already satisfied: requests>=2.31 in /usr/local/lib/python3.11/dist-packages (from cuda-quantum-cu12==0.11.0->cudaq) (2.32.3)\n",
            "Requirement already satisfied: nvidia-cublas-cu12~=12.0 in /usr/local/lib/python3.11/dist-packages (from cuda-quantum-cu12==0.11.0->cudaq) (12.5.3.2)\n",
            "Requirement already satisfied: nvidia-curand-cu12~=10.3 in /usr/local/lib/python3.11/dist-packages (from cuda-quantum-cu12==0.11.0->cudaq) (10.3.6.82)\n",
            "Requirement already satisfied: nvidia-cuda-runtime-cu12~=12.0 in /usr/local/lib/python3.11/dist-packages (from cuda-quantum-cu12==0.11.0->cudaq) (12.5.82)\n",
            "Requirement already satisfied: nvidia-cusolver-cu12~=11.4 in /usr/local/lib/python3.11/dist-packages (from cuda-quantum-cu12==0.11.0->cudaq) (11.6.3.83)\n",
            "Requirement already satisfied: nvidia-cuda-nvrtc-cu12~=12.0 in /usr/local/lib/python3.11/dist-packages (from cuda-quantum-cu12==0.11.0->cudaq) (12.5.82)\n",
            "Requirement already satisfied: custatevec-cu12~=1.8 in /usr/local/lib/python3.11/dist-packages (from cuquantum-python-cu12>=25.03->cuda-quantum-cu12==0.11.0->cudaq) (1.8.0)\n",
            "Requirement already satisfied: cutensornet-cu12~=2.7 in /usr/local/lib/python3.11/dist-packages (from cuquantum-python-cu12>=25.03->cuda-quantum-cu12==0.11.0->cudaq) (2.7.0)\n",
            "Requirement already satisfied: cudensitymat-cu12~=0.1 in /usr/local/lib/python3.11/dist-packages (from cuquantum-python-cu12>=25.03->cuda-quantum-cu12==0.11.0->cudaq) (0.1.0)\n",
            "Requirement already satisfied: cupy-cuda12x>=13.0 in /usr/local/lib/python3.11/dist-packages (from cuquantum-python-cu12>=25.03->cuda-quantum-cu12==0.11.0->cudaq) (13.3.0)\n",
            "Requirement already satisfied: nvidia-nvjitlink-cu12 in /usr/local/lib/python3.11/dist-packages (from nvidia-cusolver-cu12~=11.4->cuda-quantum-cu12==0.11.0->cudaq) (12.5.82)\n",
            "Requirement already satisfied: nvidia-cusparse-cu12 in /usr/local/lib/python3.11/dist-packages (from nvidia-cusolver-cu12~=11.4->cuda-quantum-cu12==0.11.0->cudaq) (12.5.1.3)\n",
            "Requirement already satisfied: charset-normalizer<4,>=2 in /usr/local/lib/python3.11/dist-packages (from requests>=2.31->cuda-quantum-cu12==0.11.0->cudaq) (3.4.2)\n",
            "Requirement already satisfied: idna<4,>=2.5 in /usr/local/lib/python3.11/dist-packages (from requests>=2.31->cuda-quantum-cu12==0.11.0->cudaq) (3.10)\n",
            "Requirement already satisfied: urllib3<3,>=1.21.1 in /usr/local/lib/python3.11/dist-packages (from requests>=2.31->cuda-quantum-cu12==0.11.0->cudaq) (2.4.0)\n",
            "Requirement already satisfied: certifi>=2017.4.17 in /usr/local/lib/python3.11/dist-packages (from requests>=2.31->cuda-quantum-cu12==0.11.0->cudaq) (2025.6.15)\n",
            "Requirement already satisfied: cutensor-cu12<3,>=2.2 in /usr/local/lib/python3.11/dist-packages (from cudensitymat-cu12~=0.1->cuquantum-python-cu12>=25.03->cuda-quantum-cu12==0.11.0->cudaq) (2.2.0)\n",
            "Requirement already satisfied: fastrlock>=0.5 in /usr/local/lib/python3.11/dist-packages (from cupy-cuda12x>=13.0->cuquantum-python-cu12>=25.03->cuda-quantum-cu12==0.11.0->cudaq) (0.8.3)\n"
          ]
        }
      ],
      "source": [
        "!pip install cudaq"
      ]
    },
    {
      "cell_type": "code",
      "source": [
        "import cudaq"
      ],
      "metadata": {
        "id": "3wmedW5HNaqu"
      },
      "execution_count": 1,
      "outputs": []
    },
    {
      "cell_type": "code",
      "source": [
        "#Password Brute Force with grover's algorithm\n",
        "#Starting with 2 qubits (hardcoded)\n",
        "\n",
        "#Had to move this segment out b/c cudaq didn't support >>\n",
        "def target_to_bits(target, n):\n",
        "    #>> shifts bits of a number to the right\n",
        "    return [(target >> (n - 1 - i)) & 1 for i in range(n)]\n",
        "\n",
        "\n",
        "@cudaq.kernel #remember the decorator!\n",
        "def search(bit_pattern: list[int]):\n",
        "\n",
        "  #Step 1: Create state 0 qubits\n",
        "  n = len(bit_pattern)\n",
        "  qubits = cudaq.qvector(n) #initialize n qubits\n",
        "\n",
        "  #Step 2: Superposition\n",
        "  for q in qubits:\n",
        "    h(q) #apply H gate to all qubits\n",
        "\n",
        "  #looping for better success probability\n",
        "  for i in range(n*2):\n",
        "\n",
        "    #Step 3: Oracle\n",
        "    for i in range(n): #apply x gates on qubits that should be 0 in the target state\n",
        "      if bit_pattern[i] == 0:\n",
        "        x(qubits[i])\n",
        "\n",
        "    cz(qubits[0], qubits[1]) #flip target state\n",
        "\n",
        "    for i in range(n): #apply x gates on qubits that should be 0 in the target state\n",
        "      if bit_pattern[i] == 0:\n",
        "        x(qubits[i])\n",
        "\n",
        "    #Step 4: Diffusion\n",
        "    #reflects the state through origin\n",
        "    for q in qubits: #puts qubits in \"mirror state\"\n",
        "      h(q) #back to superposition\n",
        "      x(q) #flip qubit\n",
        "\n",
        "    #reflection step\n",
        "    cz(qubits[0], qubits[1]) #state vector reflected around the mean amplitude\n",
        "\n",
        "    for q in qubits: #undo\n",
        "      x(q)\n",
        "      h(q)\n",
        "\n",
        "  #Step 5: Measure\n",
        "  for q in qubits:\n",
        "        mz(q)\n",
        "\n",
        "#Step 6: Run & Sample\n",
        "\n",
        "#inputs\n",
        "n = 2 #number of qubits\n",
        "target = 3\n",
        "bit_pattern = target_to_bits(target, n)\n",
        "\n",
        "#run\n",
        "result = cudaq.sample(search, bit_pattern) #run sample\n",
        "target_bin = format(target, f'0{n}b') #convert target to binary\n",
        "result_dict = {key: result.count(key) for key in result} #loops over bitstrings, gets total count\n",
        "success_count = result.count(target_bin) #count no. correct state, only accepts binary\n",
        "total_shots = sum(result_dict.values()) #total number of shots (default is 1000)\n",
        "success_rate = (success_count / total_shots) * 100 #calculate success rate as %\n",
        "print(f\"Result for target = |{target:02b}⟩:\")\n",
        "print(result)\n",
        "print(f\"Success rate: {success_rate:.2f}%\")\n",
        "\n",
        ""
      ],
      "metadata": {
        "colab": {
          "base_uri": "https://localhost:8080/"
        },
        "collapsed": true,
        "id": "s7jN3OSkNbtk",
        "outputId": "5d4ab740-8fe1-48bc-e7bb-370be225eb0f"
      },
      "execution_count": 9,
      "outputs": [
        {
          "output_type": "stream",
          "name": "stdout",
          "text": [
            "Result for target = |01⟩:\n",
            "{ 01:1000 }\n",
            "\n",
            "Success rate: 100.00%\n"
          ]
        }
      ]
    },
    {
      "cell_type": "code",
      "source": [],
      "metadata": {
        "id": "yVUMt3DN5Owc"
      },
      "execution_count": null,
      "outputs": []
    }
  ]
}