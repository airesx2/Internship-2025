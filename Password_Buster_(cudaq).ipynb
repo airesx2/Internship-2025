{
  "nbformat": 4,
  "nbformat_minor": 0,
  "metadata": {
    "colab": {
      "provenance": [],
      "authorship_tag": "ABX9TyMcA3XEPQ50hpmBOKkfToh3",
      "include_colab_link": true
    },
    "kernelspec": {
      "name": "python3",
      "display_name": "Python 3"
    },
    "language_info": {
      "name": "python"
    }
  },
  "cells": [
    {
      "cell_type": "markdown",
      "metadata": {
        "id": "view-in-github",
        "colab_type": "text"
      },
      "source": [
        "<a href=\"https://colab.research.google.com/github/airesx2/Internship-2025/blob/main/Password_Buster_(cudaq).ipynb\" target=\"_parent\"><img src=\"https://colab.research.google.com/assets/colab-badge.svg\" alt=\"Open In Colab\"/></a>"
      ]
    },
    {
      "cell_type": "code",
      "execution_count": 1,
      "metadata": {
        "id": "GIeR6nGG-rsl",
        "colab": {
          "base_uri": "https://localhost:8080/"
        },
        "outputId": "deb1ce64-7c09-42d6-cc7e-46e9b61b2528"
      },
      "outputs": [
        {
          "output_type": "stream",
          "name": "stdout",
          "text": [
            "Collecting cudaq\n",
            "  Downloading cudaq-0.11.0.tar.gz (9.1 kB)\n",
            "  Installing build dependencies ... \u001b[?25l\u001b[?25hdone\n",
            "  Getting requirements to build wheel ... \u001b[?25l\u001b[?25hdone\n",
            "  Preparing metadata (pyproject.toml) ... \u001b[?25l\u001b[?25hdone\n",
            "Collecting cuda-quantum-cu12==0.11.0 (from cudaq)\n",
            "  Downloading cuda_quantum_cu12-0.11.0-cp311-cp311-manylinux_2_28_x86_64.whl.metadata (8.5 kB)\n",
            "Collecting astpretty~=3.0 (from cuda-quantum-cu12==0.11.0->cudaq)\n",
            "  Downloading astpretty-3.0.0-py2.py3-none-any.whl.metadata (5.5 kB)\n",
            "Collecting cuquantum-python-cu12>=25.03 (from cuda-quantum-cu12==0.11.0->cudaq)\n",
            "  Downloading cuquantum_python_cu12-25.3.0-cp311-cp311-manylinux2014_x86_64.whl.metadata (7.8 kB)\n",
            "Requirement already satisfied: numpy>=1.24 in /usr/local/lib/python3.11/dist-packages (from cuda-quantum-cu12==0.11.0->cudaq) (2.0.2)\n",
            "Requirement already satisfied: scipy>=1.10.1 in /usr/local/lib/python3.11/dist-packages (from cuda-quantum-cu12==0.11.0->cudaq) (1.15.3)\n",
            "Requirement already satisfied: requests>=2.31 in /usr/local/lib/python3.11/dist-packages (from cuda-quantum-cu12==0.11.0->cudaq) (2.32.3)\n",
            "Requirement already satisfied: nvidia-cublas-cu12~=12.0 in /usr/local/lib/python3.11/dist-packages (from cuda-quantum-cu12==0.11.0->cudaq) (12.5.3.2)\n",
            "Requirement already satisfied: nvidia-curand-cu12~=10.3 in /usr/local/lib/python3.11/dist-packages (from cuda-quantum-cu12==0.11.0->cudaq) (10.3.6.82)\n",
            "Requirement already satisfied: nvidia-cuda-runtime-cu12~=12.0 in /usr/local/lib/python3.11/dist-packages (from cuda-quantum-cu12==0.11.0->cudaq) (12.5.82)\n",
            "Requirement already satisfied: nvidia-cusolver-cu12~=11.4 in /usr/local/lib/python3.11/dist-packages (from cuda-quantum-cu12==0.11.0->cudaq) (11.6.3.83)\n",
            "Requirement already satisfied: nvidia-cuda-nvrtc-cu12~=12.0 in /usr/local/lib/python3.11/dist-packages (from cuda-quantum-cu12==0.11.0->cudaq) (12.5.82)\n",
            "Collecting custatevec-cu12~=1.8 (from cuquantum-python-cu12>=25.03->cuda-quantum-cu12==0.11.0->cudaq)\n",
            "  Downloading custatevec_cu12-1.8.0-py3-none-manylinux2014_x86_64.whl.metadata (2.5 kB)\n",
            "Collecting cutensornet-cu12~=2.7 (from cuquantum-python-cu12>=25.03->cuda-quantum-cu12==0.11.0->cudaq)\n",
            "  Downloading cutensornet_cu12-2.7.0-py3-none-manylinux2014_x86_64.whl.metadata (2.5 kB)\n",
            "Collecting cudensitymat-cu12~=0.1 (from cuquantum-python-cu12>=25.03->cuda-quantum-cu12==0.11.0->cudaq)\n",
            "  Downloading cudensitymat_cu12-0.1.0-py3-none-manylinux2014_x86_64.whl.metadata (2.6 kB)\n",
            "Requirement already satisfied: cupy-cuda12x>=13.0 in /usr/local/lib/python3.11/dist-packages (from cuquantum-python-cu12>=25.03->cuda-quantum-cu12==0.11.0->cudaq) (13.3.0)\n",
            "Requirement already satisfied: nvidia-nvjitlink-cu12 in /usr/local/lib/python3.11/dist-packages (from nvidia-cusolver-cu12~=11.4->cuda-quantum-cu12==0.11.0->cudaq) (12.5.82)\n",
            "Requirement already satisfied: nvidia-cusparse-cu12 in /usr/local/lib/python3.11/dist-packages (from nvidia-cusolver-cu12~=11.4->cuda-quantum-cu12==0.11.0->cudaq) (12.5.1.3)\n",
            "Requirement already satisfied: charset-normalizer<4,>=2 in /usr/local/lib/python3.11/dist-packages (from requests>=2.31->cuda-quantum-cu12==0.11.0->cudaq) (3.4.2)\n",
            "Requirement already satisfied: idna<4,>=2.5 in /usr/local/lib/python3.11/dist-packages (from requests>=2.31->cuda-quantum-cu12==0.11.0->cudaq) (3.10)\n",
            "Requirement already satisfied: urllib3<3,>=1.21.1 in /usr/local/lib/python3.11/dist-packages (from requests>=2.31->cuda-quantum-cu12==0.11.0->cudaq) (2.4.0)\n",
            "Requirement already satisfied: certifi>=2017.4.17 in /usr/local/lib/python3.11/dist-packages (from requests>=2.31->cuda-quantum-cu12==0.11.0->cudaq) (2025.6.15)\n",
            "Collecting cutensor-cu12<3,>=2.2 (from cudensitymat-cu12~=0.1->cuquantum-python-cu12>=25.03->cuda-quantum-cu12==0.11.0->cudaq)\n",
            "  Downloading cutensor_cu12-2.2.0-py3-none-manylinux2014_x86_64.whl.metadata (2.2 kB)\n",
            "Requirement already satisfied: fastrlock>=0.5 in /usr/local/lib/python3.11/dist-packages (from cupy-cuda12x>=13.0->cuquantum-python-cu12>=25.03->cuda-quantum-cu12==0.11.0->cudaq) (0.8.3)\n",
            "Downloading cuda_quantum_cu12-0.11.0-cp311-cp311-manylinux_2_28_x86_64.whl (124.6 MB)\n",
            "\u001b[2K   \u001b[90m━━━━━━━━━━━━━━━━━━━━━━━━━━━━━━━━━━━━━━━━\u001b[0m \u001b[32m124.6/124.6 MB\u001b[0m \u001b[31m7.5 MB/s\u001b[0m eta \u001b[36m0:00:00\u001b[0m\n",
            "\u001b[?25hDownloading astpretty-3.0.0-py2.py3-none-any.whl (4.9 kB)\n",
            "Downloading cuquantum_python_cu12-25.3.0-cp311-cp311-manylinux2014_x86_64.whl (5.2 MB)\n",
            "\u001b[2K   \u001b[90m━━━━━━━━━━━━━━━━━━━━━━━━━━━━━━━━━━━━━━━━\u001b[0m \u001b[32m5.2/5.2 MB\u001b[0m \u001b[31m55.8 MB/s\u001b[0m eta \u001b[36m0:00:00\u001b[0m\n",
            "\u001b[?25hDownloading cudensitymat_cu12-0.1.0-py3-none-manylinux2014_x86_64.whl (4.0 MB)\n",
            "\u001b[2K   \u001b[90m━━━━━━━━━━━━━━━━━━━━━━━━━━━━━━━━━━━━━━━━\u001b[0m \u001b[32m4.0/4.0 MB\u001b[0m \u001b[31m62.6 MB/s\u001b[0m eta \u001b[36m0:00:00\u001b[0m\n",
            "\u001b[?25hDownloading custatevec_cu12-1.8.0-py3-none-manylinux2014_x86_64.whl (44.3 MB)\n",
            "\u001b[2K   \u001b[90m━━━━━━━━━━━━━━━━━━━━━━━━━━━━━━━━━━━━━━━━\u001b[0m \u001b[32m44.3/44.3 MB\u001b[0m \u001b[31m15.3 MB/s\u001b[0m eta \u001b[36m0:00:00\u001b[0m\n",
            "\u001b[?25hDownloading cutensornet_cu12-2.7.0-py3-none-manylinux2014_x86_64.whl (2.6 MB)\n",
            "\u001b[2K   \u001b[90m━━━━━━━━━━━━━━━━━━━━━━━━━━━━━━━━━━━━━━━━\u001b[0m \u001b[32m2.6/2.6 MB\u001b[0m \u001b[31m68.7 MB/s\u001b[0m eta \u001b[36m0:00:00\u001b[0m\n",
            "\u001b[?25hDownloading cutensor_cu12-2.2.0-py3-none-manylinux2014_x86_64.whl (202.3 MB)\n",
            "\u001b[2K   \u001b[90m━━━━━━━━━━━━━━━━━━━━━━━━━━━━━━━━━━━━━━━━\u001b[0m \u001b[32m202.3/202.3 MB\u001b[0m \u001b[31m6.5 MB/s\u001b[0m eta \u001b[36m0:00:00\u001b[0m\n",
            "\u001b[?25hBuilding wheels for collected packages: cudaq\n",
            "  Building wheel for cudaq (pyproject.toml) ... \u001b[?25l\u001b[?25hdone\n",
            "  Created wheel for cudaq: filename=cudaq-0.11.0-py3-none-any.whl size=6897 sha256=fa47cbb5694f997ef816284ccd5ec8ba418db9772d9fabc95aeff8b6435ce3eb\n",
            "  Stored in directory: /root/.cache/pip/wheels/ad/0f/19/60352710d764963c7c1cb5d5f1ab78dc76e1b542899b33c35a\n",
            "Successfully built cudaq\n",
            "Installing collected packages: cutensor-cu12, custatevec-cu12, cutensornet-cu12, cudensitymat-cu12, astpretty, cuquantum-python-cu12, cuda-quantum-cu12, cudaq\n",
            "Successfully installed astpretty-3.0.0 cuda-quantum-cu12-0.11.0 cudaq-0.11.0 cudensitymat-cu12-0.1.0 cuquantum-python-cu12-25.3.0 custatevec-cu12-1.8.0 cutensor-cu12-2.2.0 cutensornet-cu12-2.7.0\n"
          ]
        }
      ],
      "source": [
        "!pip install cudaq"
      ]
    },
    {
      "cell_type": "code",
      "source": [
        "import cudaq"
      ],
      "metadata": {
        "id": "3wmedW5HNaqu"
      },
      "execution_count": 1,
      "outputs": []
    },
    {
      "cell_type": "code",
      "source": [
        "#Password Brute Force with grover's algorithm\n",
        "#Starting with 2 qubits\n",
        "\n",
        "#Had to move this segment out b/c cudaq didn't support >>\n",
        "def target_to_bits(target, n):\n",
        "    #>> shifts bits of a number to the right\n",
        "    return [(target >> (n - 1 - i)) & 1 for i in range(n)]\n",
        "\n",
        "\n",
        "@cudaq.kernel #remember the decorator!\n",
        "def search(bit_pattern: list[int]):\n",
        "\n",
        "  #Step 1: Create state 0 qubits\n",
        "  n = len(bit_pattern)\n",
        "  qubits = cudaq.qvector(n) #initialize n qubits\n",
        "\n",
        "  #Step 2: Superposition\n",
        "  for q in qubits:\n",
        "    h(q) #apply H gate to all qubits\n",
        "\n",
        "  #looping for better success probability\n",
        "  for i in range(2):\n",
        "\n",
        "    #Step 3: Oracle\n",
        "    for i in range(n): #apply x gates on qubits that should be 0 in the target state\n",
        "      if bit_pattern[i] == 0:\n",
        "        x(qubits[i])\n",
        "\n",
        "    cz(qubits[0], qubits[1]) #flip target state\n",
        "\n",
        "    for i in range(n): #apply x gates on qubits that should be 0 in the target state\n",
        "      if bit_pattern[i] == 0:\n",
        "        x(qubits[i])\n",
        "\n",
        "    #Step 4: Diffusion\n",
        "    #reflects the state through origin\n",
        "    for q in qubits: #puts qubits in \"mirror state\"\n",
        "      h(q) #back to superposition\n",
        "      x(q) #flip qubit\n",
        "\n",
        "    #reflection step\n",
        "    cz(qubits[0], qubits[1]) #state vector reflected around the mean amplitude\n",
        "\n",
        "    for q in qubits: #undo\n",
        "      x(q)\n",
        "      h(q)\n",
        "\n",
        "  #Step 5: Measure\n",
        "  for q in qubits:\n",
        "        mz(q)\n",
        "\n",
        "#Step 6: Run & Sample\n",
        "\n",
        "#inputs\n",
        "n = 2 #number of qubits\n",
        "target = 3\n",
        "bit_pattern = target_to_bits(target, n)\n",
        "\n",
        "#run\n",
        "result = cudaq.sample(search, bit_pattern)\n",
        "print(f\"Result for target = |{target:02b}⟩:\")\n",
        "print(result)\n",
        ""
      ],
      "metadata": {
        "colab": {
          "base_uri": "https://localhost:8080/"
        },
        "collapsed": true,
        "id": "s7jN3OSkNbtk",
        "outputId": "fe5151e8-5a02-4c90-8575-e2b22d10285e"
      },
      "execution_count": 2,
      "outputs": [
        {
          "output_type": "stream",
          "name": "stdout",
          "text": [
            "Result for target = |11⟩:\n",
            "{ 00:239 01:261 10:238 11:262 }\n",
            "\n"
          ]
        }
      ]
    }
  ]
}